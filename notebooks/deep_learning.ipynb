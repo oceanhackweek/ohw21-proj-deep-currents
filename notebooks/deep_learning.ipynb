{
 "cells": [
  {
   "cell_type": "code",
   "execution_count": 8,
   "id": "a8fcbdc1",
   "metadata": {},
   "outputs": [
    {
     "name": "stdout",
     "output_type": "stream",
     "text": [
      "The autoreload extension is already loaded. To reload it, use:\n",
      "  %reload_ext autoreload\n"
     ]
    },
    {
     "ename": "ModuleNotFoundError",
     "evalue": "No module named 'deep_currents'",
     "output_type": "error",
     "traceback": [
      "\u001b[0;31m---------------------------------------------------------------------------\u001b[0m",
      "\u001b[0;31mModuleNotFoundError\u001b[0m                       Traceback (most recent call last)",
      "\u001b[0;32m/tmp/ipykernel_536/1101331462.py\u001b[0m in \u001b[0;36m<module>\u001b[0;34m\u001b[0m\n\u001b[1;32m      2\u001b[0m \u001b[0mget_ipython\u001b[0m\u001b[0;34m(\u001b[0m\u001b[0;34m)\u001b[0m\u001b[0;34m.\u001b[0m\u001b[0mrun_line_magic\u001b[0m\u001b[0;34m(\u001b[0m\u001b[0;34m'load_ext'\u001b[0m\u001b[0;34m,\u001b[0m \u001b[0;34m'autoreload'\u001b[0m\u001b[0;34m)\u001b[0m\u001b[0;34m\u001b[0m\u001b[0;34m\u001b[0m\u001b[0m\n\u001b[1;32m      3\u001b[0m \u001b[0mget_ipython\u001b[0m\u001b[0;34m(\u001b[0m\u001b[0;34m)\u001b[0m\u001b[0;34m.\u001b[0m\u001b[0mrun_line_magic\u001b[0m\u001b[0;34m(\u001b[0m\u001b[0;34m'autoreload'\u001b[0m\u001b[0;34m,\u001b[0m \u001b[0;34m'2'\u001b[0m\u001b[0;34m)\u001b[0m\u001b[0;34m\u001b[0m\u001b[0;34m\u001b[0m\u001b[0m\n\u001b[0;32m----> 4\u001b[0;31m \u001b[0;32mfrom\u001b[0m \u001b[0mdeep_currents\u001b[0m\u001b[0;34m.\u001b[0m\u001b[0mmodel\u001b[0m \u001b[0;32mimport\u001b[0m \u001b[0mModel\u001b[0m\u001b[0;34m\u001b[0m\u001b[0;34m\u001b[0m\u001b[0m\n\u001b[0m\u001b[1;32m      5\u001b[0m \u001b[0;32mfrom\u001b[0m \u001b[0msklearn\u001b[0m \u001b[0;32mimport\u001b[0m \u001b[0mset_config\u001b[0m\u001b[0;34m;\u001b[0m \u001b[0mset_config\u001b[0m\u001b[0;34m(\u001b[0m\u001b[0mdisplay\u001b[0m\u001b[0;34m=\u001b[0m\u001b[0;34m'diagram'\u001b[0m\u001b[0;34m)\u001b[0m\u001b[0;34m\u001b[0m\u001b[0;34m\u001b[0m\u001b[0m\n\u001b[1;32m      6\u001b[0m \u001b[0;32mimport\u001b[0m \u001b[0mmatplotlib\u001b[0m\u001b[0;34m.\u001b[0m\u001b[0mpyplot\u001b[0m \u001b[0;32mas\u001b[0m \u001b[0mplt\u001b[0m\u001b[0;34m\u001b[0m\u001b[0;34m\u001b[0m\u001b[0m\n",
      "\u001b[0;31mModuleNotFoundError\u001b[0m: No module named 'deep_currents'"
     ]
    }
   ],
   "source": [
    "# Use this cell to regroup all your imports\n",
    "%load_ext autoreload\n",
    "%autoreload 2\n",
    "from deep_currents.model import Model\n",
    "from sklearn import set_config; set_config(display='diagram')\n",
    "import matplotlib.pyplot as plt"
   ]
  },
  {
   "cell_type": "markdown",
   "id": "70ac6f93",
   "metadata": {},
   "source": [
    "# Load data"
   ]
  },
  {
   "cell_type": "markdown",
   "id": "43986296",
   "metadata": {},
   "source": [
    "## Train data"
   ]
  },
  {
   "cell_type": "code",
   "execution_count": null,
   "id": "0f5523d3-f9b6-4c11-9288-2cde784f825b",
   "metadata": {},
   "outputs": [],
   "source": [
    "m = Model()"
   ]
  },
  {
   "cell_type": "code",
   "execution_count": null,
   "id": "08f5c285-f9df-43e4-97e5-fdda5895b0fe",
   "metadata": {},
   "outputs": [],
   "source": [
    "m.open_data()"
   ]
  },
  {
   "cell_type": "markdown",
   "id": "7564b7e9",
   "metadata": {},
   "source": [
    "## Test data"
   ]
  },
  {
   "cell_type": "markdown",
   "id": "040d5aa0",
   "metadata": {},
   "source": [
    "# Prepare data"
   ]
  },
  {
   "cell_type": "markdown",
   "id": "42b844d0",
   "metadata": {},
   "source": [
    "## Build pipeline for preproc data"
   ]
  },
  {
   "cell_type": "markdown",
   "id": "eb5cf83d",
   "metadata": {},
   "source": [
    "This pipeline is important to adjust the data to enter in the DL model.\n",
    "\n",
    "We are applying two corrections:\n",
    "- KNNImputer: to impute value when we have missing data. It will get the closest value to complete\n",
    "- Standardcale: to use ML and DL models, we have to rescale all variables to the same scale. I choose Standard sclae, but it will depends on the hist distribuition of the variations (normal distribution and outliers)"
   ]
  },
  {
   "cell_type": "code",
   "execution_count": 2,
   "id": "4e63fb2e-f6d8-40a5-b663-a18d0c853da0",
   "metadata": {},
   "outputs": [
    {
     "ename": "NameError",
     "evalue": "name 'plt' is not defined",
     "output_type": "error",
     "traceback": [
      "\u001b[0;31m---------------------------------------------------------------------------\u001b[0m",
      "\u001b[0;31mNameError\u001b[0m                                 Traceback (most recent call last)",
      "\u001b[0;32m/tmp/ipykernel_536/1096012107.py\u001b[0m in \u001b[0;36m<module>\u001b[0;34m\u001b[0m\n\u001b[0;32m----> 1\u001b[0;31m \u001b[0mplt\u001b[0m\u001b[0;34m.\u001b[0m\u001b[0mhist\u001b[0m\u001b[0;34m(\u001b[0m\u001b[0mm\u001b[0m\u001b[0;34m.\u001b[0m\u001b[0mX\u001b[0m\u001b[0;34m[\u001b[0m\u001b[0;36m0\u001b[0m\u001b[0;34m]\u001b[0m\u001b[0;34m[\u001b[0m\u001b[0;36m17\u001b[0m\u001b[0;34m:\u001b[0m\u001b[0;34m-\u001b[0m\u001b[0;36m1\u001b[0m\u001b[0;34m]\u001b[0m\u001b[0;34m)\u001b[0m\u001b[0;34m\u001b[0m\u001b[0;34m\u001b[0m\u001b[0m\n\u001b[0m",
      "\u001b[0;31mNameError\u001b[0m: name 'plt' is not defined"
     ]
    }
   ],
   "source": [
    "plt.hist(m.X[0][17:-1])"
   ]
  },
  {
   "cell_type": "code",
   "execution_count": 3,
   "id": "f575a6f8",
   "metadata": {},
   "outputs": [
    {
     "ename": "NameError",
     "evalue": "name 'plt' is not defined",
     "output_type": "error",
     "traceback": [
      "\u001b[0;31m---------------------------------------------------------------------------\u001b[0m",
      "\u001b[0;31mNameError\u001b[0m                                 Traceback (most recent call last)",
      "\u001b[0;32m/tmp/ipykernel_536/1074507259.py\u001b[0m in \u001b[0;36m<module>\u001b[0;34m\u001b[0m\n\u001b[0;32m----> 1\u001b[0;31m \u001b[0mplt\u001b[0m\u001b[0;34m.\u001b[0m\u001b[0mhist\u001b[0m\u001b[0;34m(\u001b[0m\u001b[0mm\u001b[0m\u001b[0;34m.\u001b[0m\u001b[0mX\u001b[0m\u001b[0;34m[\u001b[0m\u001b[0;36m0\u001b[0m\u001b[0;34m]\u001b[0m\u001b[0;34m[\u001b[0m\u001b[0;36m0\u001b[0m\u001b[0;34m:\u001b[0m\u001b[0;36m16\u001b[0m\u001b[0;34m]\u001b[0m\u001b[0;34m)\u001b[0m\u001b[0;34m\u001b[0m\u001b[0;34m\u001b[0m\u001b[0m\n\u001b[0m",
      "\u001b[0;31mNameError\u001b[0m: name 'plt' is not defined"
     ]
    }
   ],
   "source": [
    "plt.hist(m.X[0][0:16])"
   ]
  },
  {
   "cell_type": "code",
   "execution_count": 4,
   "id": "1face8b4",
   "metadata": {},
   "outputs": [
    {
     "ename": "NameError",
     "evalue": "name 'm' is not defined",
     "output_type": "error",
     "traceback": [
      "\u001b[0;31m---------------------------------------------------------------------------\u001b[0m",
      "\u001b[0;31mNameError\u001b[0m                                 Traceback (most recent call last)",
      "\u001b[0;32m/tmp/ipykernel_536/1341771202.py\u001b[0m in \u001b[0;36m<module>\u001b[0;34m\u001b[0m\n\u001b[0;32m----> 1\u001b[0;31m \u001b[0mm\u001b[0m\u001b[0;34m.\u001b[0m\u001b[0mpreproc\u001b[0m\u001b[0;34m(\u001b[0m\u001b[0;34m)\u001b[0m\u001b[0;34m\u001b[0m\u001b[0;34m\u001b[0m\u001b[0m\n\u001b[0m",
      "\u001b[0;31mNameError\u001b[0m: name 'm' is not defined"
     ]
    }
   ],
   "source": [
    "m.preproc()"
   ]
  },
  {
   "cell_type": "markdown",
   "id": "26d7bd21",
   "metadata": {},
   "source": [
    "## Preproc data"
   ]
  },
  {
   "cell_type": "markdown",
   "id": "19095f23",
   "metadata": {},
   "source": [
    "Fit the data ⬇️"
   ]
  },
  {
   "cell_type": "code",
   "execution_count": 9,
   "id": "0579be2a-5e20-431d-9007-1779a66f200b",
   "metadata": {},
   "outputs": [],
   "source": [
    "m.preproc_fit()"
   ]
  },
  {
   "cell_type": "markdown",
   "id": "d15e6a27",
   "metadata": {},
   "source": [
    "# Machine Learning"
   ]
  },
  {
   "cell_type": "code",
   "execution_count": 10,
   "id": "25c92f11",
   "metadata": {},
   "outputs": [
    {
     "data": {
      "text/html": [
       "<style>#sk-b4b66e77-5bac-4c26-968b-0c0f4a59ff6b {color: black;background-color: white;}#sk-b4b66e77-5bac-4c26-968b-0c0f4a59ff6b pre{padding: 0;}#sk-b4b66e77-5bac-4c26-968b-0c0f4a59ff6b div.sk-toggleable {background-color: white;}#sk-b4b66e77-5bac-4c26-968b-0c0f4a59ff6b label.sk-toggleable__label {cursor: pointer;display: block;width: 100%;margin-bottom: 0;padding: 0.2em 0.3em;box-sizing: border-box;text-align: center;}#sk-b4b66e77-5bac-4c26-968b-0c0f4a59ff6b div.sk-toggleable__content {max-height: 0;max-width: 0;overflow: hidden;text-align: left;background-color: #f0f8ff;}#sk-b4b66e77-5bac-4c26-968b-0c0f4a59ff6b div.sk-toggleable__content pre {margin: 0.2em;color: black;border-radius: 0.25em;background-color: #f0f8ff;}#sk-b4b66e77-5bac-4c26-968b-0c0f4a59ff6b input.sk-toggleable__control:checked~div.sk-toggleable__content {max-height: 200px;max-width: 100%;overflow: auto;}#sk-b4b66e77-5bac-4c26-968b-0c0f4a59ff6b div.sk-estimator input.sk-toggleable__control:checked~label.sk-toggleable__label {background-color: #d4ebff;}#sk-b4b66e77-5bac-4c26-968b-0c0f4a59ff6b div.sk-label input.sk-toggleable__control:checked~label.sk-toggleable__label {background-color: #d4ebff;}#sk-b4b66e77-5bac-4c26-968b-0c0f4a59ff6b input.sk-hidden--visually {border: 0;clip: rect(1px 1px 1px 1px);clip: rect(1px, 1px, 1px, 1px);height: 1px;margin: -1px;overflow: hidden;padding: 0;position: absolute;width: 1px;}#sk-b4b66e77-5bac-4c26-968b-0c0f4a59ff6b div.sk-estimator {font-family: monospace;background-color: #f0f8ff;margin: 0.25em 0.25em;border: 1px dotted black;border-radius: 0.25em;box-sizing: border-box;}#sk-b4b66e77-5bac-4c26-968b-0c0f4a59ff6b div.sk-estimator:hover {background-color: #d4ebff;}#sk-b4b66e77-5bac-4c26-968b-0c0f4a59ff6b div.sk-parallel-item::after {content: \"\";width: 100%;border-bottom: 1px solid gray;flex-grow: 1;}#sk-b4b66e77-5bac-4c26-968b-0c0f4a59ff6b div.sk-label:hover label.sk-toggleable__label {background-color: #d4ebff;}#sk-b4b66e77-5bac-4c26-968b-0c0f4a59ff6b div.sk-serial::before {content: \"\";position: absolute;border-left: 1px solid gray;box-sizing: border-box;top: 2em;bottom: 0;left: 50%;}#sk-b4b66e77-5bac-4c26-968b-0c0f4a59ff6b div.sk-serial {display: flex;flex-direction: column;align-items: center;background-color: white;}#sk-b4b66e77-5bac-4c26-968b-0c0f4a59ff6b div.sk-item {z-index: 1;}#sk-b4b66e77-5bac-4c26-968b-0c0f4a59ff6b div.sk-parallel {display: flex;align-items: stretch;justify-content: center;background-color: white;}#sk-b4b66e77-5bac-4c26-968b-0c0f4a59ff6b div.sk-parallel-item {display: flex;flex-direction: column;position: relative;background-color: white;}#sk-b4b66e77-5bac-4c26-968b-0c0f4a59ff6b div.sk-parallel-item:first-child::after {align-self: flex-end;width: 50%;}#sk-b4b66e77-5bac-4c26-968b-0c0f4a59ff6b div.sk-parallel-item:last-child::after {align-self: flex-start;width: 50%;}#sk-b4b66e77-5bac-4c26-968b-0c0f4a59ff6b div.sk-parallel-item:only-child::after {width: 0;}#sk-b4b66e77-5bac-4c26-968b-0c0f4a59ff6b div.sk-dashed-wrapped {border: 1px dashed gray;margin: 0.2em;box-sizing: border-box;padding-bottom: 0.1em;background-color: white;position: relative;}#sk-b4b66e77-5bac-4c26-968b-0c0f4a59ff6b div.sk-label label {font-family: monospace;font-weight: bold;background-color: white;display: inline-block;line-height: 1.2em;}#sk-b4b66e77-5bac-4c26-968b-0c0f4a59ff6b div.sk-label-container {position: relative;z-index: 2;text-align: center;}#sk-b4b66e77-5bac-4c26-968b-0c0f4a59ff6b div.sk-container {display: inline-block;position: relative;}</style><div id=\"sk-b4b66e77-5bac-4c26-968b-0c0f4a59ff6b\" class\"sk-top-container\"><div class=\"sk-container\"><div class=\"sk-item sk-dashed-wrapped\"><div class=\"sk-label-container\"><div class=\"sk-label sk-toggleable\"><input class=\"sk-toggleable__control sk-hidden--visually\" id=\"a57c448c-2706-4818-b15f-87a881679269\" type=\"checkbox\" ><label class=\"sk-toggleable__label\" for=\"a57c448c-2706-4818-b15f-87a881679269\">Pipeline</label><div class=\"sk-toggleable__content\"><pre>Pipeline(steps=[('standardscaler', StandardScaler()), ('ridge', Ridge())])</pre></div></div></div><div class=\"sk-serial\"><div class=\"sk-item\"><div class=\"sk-estimator sk-toggleable\"><input class=\"sk-toggleable__control sk-hidden--visually\" id=\"2f8bc002-3c4b-4d7d-8331-064ad38f3d12\" type=\"checkbox\" ><label class=\"sk-toggleable__label\" for=\"2f8bc002-3c4b-4d7d-8331-064ad38f3d12\">StandardScaler</label><div class=\"sk-toggleable__content\"><pre>StandardScaler()</pre></div></div></div><div class=\"sk-item\"><div class=\"sk-estimator sk-toggleable\"><input class=\"sk-toggleable__control sk-hidden--visually\" id=\"eae864af-aea2-4a44-a7d1-c0f3ed57ad63\" type=\"checkbox\" ><label class=\"sk-toggleable__label\" for=\"eae864af-aea2-4a44-a7d1-c0f3ed57ad63\">Ridge</label><div class=\"sk-toggleable__content\"><pre>Ridge()</pre></div></div></div></div></div></div></div>"
      ],
      "text/plain": [
       "Pipeline(steps=[('standardscaler', StandardScaler()), ('ridge', Ridge())])"
      ]
     },
     "execution_count": 10,
     "metadata": {},
     "output_type": "execute_result"
    }
   ],
   "source": [
    "m.basic_ml(model='ridge')"
   ]
  },
  {
   "cell_type": "code",
   "execution_count": 11,
   "id": "354d6a69-46f7-4824-bf6c-50f83b6968ea",
   "metadata": {},
   "outputs": [],
   "source": [
    "m.validation_split(test_size=0.3)"
   ]
  },
  {
   "cell_type": "code",
   "execution_count": 12,
   "id": "323b9e8d",
   "metadata": {},
   "outputs": [
    {
     "name": "stdout",
     "output_type": "stream",
     "text": [
      "MSE = 16.276942909686902\n"
     ]
    }
   ],
   "source": [
    "m.score_baseline()"
   ]
  },
  {
   "cell_type": "code",
   "execution_count": 13,
   "id": "122a70c8-e480-4722-bef6-e4882c91337e",
   "metadata": {},
   "outputs": [
    {
     "name": "stdout",
     "output_type": "stream",
     "text": [
      "2.9770894782485766\n"
     ]
    },
    {
     "data": {
      "image/png": "[encoded data removed]",
      "text/plain": [
       "<Figure size 432x288 with 1 Axes>"
      ]
     },
     "metadata": {
      "needs_background": "light"
     },
     "output_type": "display_data"
    }
   ],
   "source": [
    "m.predict_baseline()"
   ]
  },
  {
   "cell_type": "markdown",
   "id": "4b83e9ca",
   "metadata": {},
   "source": [
    "# Deep Learning"
   ]
  },
  {
   "cell_type": "markdown",
   "id": "98e23687",
   "metadata": {},
   "source": [
    "## Preproc data"
   ]
  },
  {
   "cell_type": "code",
   "execution_count": 64,
   "id": "c668ec5d",
   "metadata": {},
   "outputs": [],
   "source": [
    "m.preproc_transform()"
   ]
  },
  {
   "cell_type": "markdown",
   "id": "ba3720f0",
   "metadata": {},
   "source": [
    "## Initialize model"
   ]
  },
  {
   "cell_type": "markdown",
   "id": "1545b9bf",
   "metadata": {},
   "source": [
    "See the shape of your data and try insert the number of columns in the input_dim value"
   ]
  },
  {
   "cell_type": "code",
   "execution_count": 69,
   "id": "3c39a36a",
   "metadata": {},
   "outputs": [
    {
     "name": "stdout",
     "output_type": "stream",
     "text": [
      "\n",
      "learning rate: 0.001\n",
      "Loss = msle\n",
      "Metric = mae\n",
      "Opt = adam\n",
      "Model: \"sequential_7\"\n",
      "_________________________________________________________________\n",
      "Layer (type)                 Output Shape              Param #   \n",
      "=================================================================\n",
      "dense_37 (Dense)             (None, 120)               80040     \n",
      "_________________________________________________________________\n",
      "dense_38 (Dense)             (None, 80)                9680      \n",
      "_________________________________________________________________\n",
      "dense_39 (Dense)             (None, 40)                3240      \n",
      "_________________________________________________________________\n",
      "dense_40 (Dense)             (None, 20)                820       \n",
      "_________________________________________________________________\n",
      "dense_41 (Dense)             (None, 20)                420       \n",
      "_________________________________________________________________\n",
      "dense_42 (Dense)             (None, 20)                420       \n",
      "_________________________________________________________________\n",
      "dense_43 (Dense)             (None, 1)                 21        \n",
      "=================================================================\n",
      "Total params: 94,641\n",
      "Trainable params: 94,641\n",
      "Non-trainable params: 0\n",
      "_________________________________________________________________\n",
      "None\n"
     ]
    }
   ],
   "source": [
    "m.define_model()"
   ]
  },
  {
   "cell_type": "markdown",
   "id": "bb46b937",
   "metadata": {},
   "source": [
    "Initialize modal and show its summary"
   ]
  },
  {
   "cell_type": "markdown",
   "id": "3a69bc65",
   "metadata": {},
   "source": [
    "## Fit model to your data"
   ]
  },
  {
   "cell_type": "code",
   "execution_count": 70,
   "id": "bb4281d7-8738-4006-803a-bcfa4a510dcb",
   "metadata": {},
   "outputs": [],
   "source": [
    "m.validation_split(test_size=0.3, deep=True)"
   ]
  },
  {
   "cell_type": "code",
   "execution_count": 71,
   "id": "2474a206-1608-4d1a-8ca2-786e6024f6e5",
   "metadata": {},
   "outputs": [],
   "source": [
    "m.learning_rate()"
   ]
  },
  {
   "cell_type": "code",
   "execution_count": 72,
   "id": "11600f76-de77-4cb0-83b6-a91bf0493739",
   "metadata": {},
   "outputs": [
    {
     "name": "stdout",
     "output_type": "stream",
     "text": [
      "Early stop with patience 10\n",
      "Batch size 32\n",
      "Epoch = 100\n",
      "Validation Split = 30%\n",
      "Epoch 1/300\n",
      "1054/1054 [==============================] - 3s 3ms/step - loss: 0.5887 - mae: 6.1113 - val_loss: 0.5587 - val_mae: 5.6088\n",
      "Epoch 2/300\n",
      "1054/1054 [==============================] - 3s 3ms/step - loss: 0.4558 - mae: 5.6914 - val_loss: 0.3894 - val_mae: 5.5068\n",
      "Epoch 3/300\n",
      "1054/1054 [==============================] - 3s 3ms/step - loss: 0.4083 - mae: 5.4880 - val_loss: 0.3721 - val_mae: 5.3985\n",
      "Epoch 4/300\n",
      "1054/1054 [==============================] - 3s 3ms/step - loss: 0.3796 - mae: 5.3640 - val_loss: 0.3597 - val_mae: 5.1429\n",
      "Epoch 5/300\n",
      "1054/1054 [==============================] - 3s 3ms/step - loss: 0.3552 - mae: 5.2404 - val_loss: 0.3041 - val_mae: 5.0572\n",
      "Epoch 6/300\n",
      "1054/1054 [==============================] - 3s 2ms/step - loss: 0.3254 - mae: 5.0810 - val_loss: 0.3599 - val_mae: 5.1910\n",
      "Epoch 7/300\n",
      "1054/1054 [==============================] - 3s 3ms/step - loss: 0.3116 - mae: 5.0903 - val_loss: 0.3041 - val_mae: 5.1026\n",
      "Epoch 8/300\n",
      "1054/1054 [==============================] - 3s 2ms/step - loss: 0.2911 - mae: 4.9472 - val_loss: 0.3470 - val_mae: 4.9534\n",
      "Epoch 9/300\n",
      "1054/1054 [==============================] - 3s 3ms/step - loss: 0.2683 - mae: 4.8453 - val_loss: 0.3260 - val_mae: 4.8578\n",
      "Epoch 10/300\n",
      "1054/1054 [==============================] - 3s 3ms/step - loss: 0.2658 - mae: 4.8250 - val_loss: 0.2579 - val_mae: 4.7140\n",
      "Epoch 11/300\n",
      "1054/1054 [==============================] - 3s 3ms/step - loss: 0.2516 - mae: 4.7854 - val_loss: 0.2353 - val_mae: 4.7808\n",
      "Epoch 12/300\n",
      "1054/1054 [==============================] - 3s 3ms/step - loss: 0.2301 - mae: 4.6339 - val_loss: 0.2978 - val_mae: 4.8459\n",
      "Epoch 13/300\n",
      "1054/1054 [==============================] - 3s 3ms/step - loss: 0.2191 - mae: 4.6548 - val_loss: 0.2705 - val_mae: 4.8409\n",
      "Epoch 14/300\n",
      "1054/1054 [==============================] - 3s 2ms/step - loss: 0.2047 - mae: 4.4738 - val_loss: 0.1886 - val_mae: 4.3239\n",
      "Epoch 15/300\n",
      "1054/1054 [==============================] - 3s 3ms/step - loss: 0.2090 - mae: 4.5238 - val_loss: 0.1969 - val_mae: 4.4388\n",
      "Epoch 16/300\n",
      "1054/1054 [==============================] - 3s 3ms/step - loss: 0.2049 - mae: 4.5163 - val_loss: 0.1938 - val_mae: 4.4553\n",
      "Epoch 17/300\n",
      "1054/1054 [==============================] - 3s 2ms/step - loss: 0.1956 - mae: 4.4268 - val_loss: 0.1804 - val_mae: 4.3872\n",
      "Epoch 18/300\n",
      "1054/1054 [==============================] - 3s 3ms/step - loss: 0.2002 - mae: 4.5091 - val_loss: 0.1681 - val_mae: 4.2795\n",
      "Epoch 19/300\n",
      "1054/1054 [==============================] - 3s 2ms/step - loss: 0.1888 - mae: 4.3341 - val_loss: 0.1801 - val_mae: 4.3393\n",
      "Epoch 20/300\n",
      "1054/1054 [==============================] - 3s 3ms/step - loss: 0.1848 - mae: 4.2626 - val_loss: 0.1740 - val_mae: 4.0752\n",
      "Epoch 21/300\n",
      "1054/1054 [==============================] - 3s 2ms/step - loss: 0.1896 - mae: 4.2990 - val_loss: 0.1749 - val_mae: 4.2279\n",
      "Epoch 22/300\n",
      "1054/1054 [==============================] - 3s 3ms/step - loss: 0.1890 - mae: 4.1831 - val_loss: 0.2086 - val_mae: 3.9873\n",
      "Epoch 23/300\n",
      "1054/1054 [==============================] - 3s 3ms/step - loss: 0.1836 - mae: 4.1878 - val_loss: 0.1610 - val_mae: 4.1248\n",
      "Epoch 24/300\n",
      "1054/1054 [==============================] - 3s 3ms/step - loss: 0.1859 - mae: 4.3891 - val_loss: 0.1705 - val_mae: 4.3792\n",
      "Epoch 25/300\n",
      "1054/1054 [==============================] - 3s 3ms/step - loss: 0.1782 - mae: 4.2520 - val_loss: 0.1545 - val_mae: 4.3126\n",
      "Epoch 26/300\n",
      "1054/1054 [==============================] - 3s 3ms/step - loss: 0.1759 - mae: 4.2475 - val_loss: 0.1563 - val_mae: 4.1241\n",
      "Epoch 27/300\n",
      "1054/1054 [==============================] - 3s 2ms/step - loss: 0.1669 - mae: 4.0632 - val_loss: 0.1554 - val_mae: 4.0167\n",
      "Epoch 28/300\n",
      "1054/1054 [==============================] - 3s 3ms/step - loss: 0.1767 - mae: 4.1180 - val_loss: 0.1739 - val_mae: 4.1779\n",
      "Epoch 29/300\n",
      "1054/1054 [==============================] - 3s 2ms/step - loss: 0.1710 - mae: 4.1996 - val_loss: 0.1669 - val_mae: 4.2730\n",
      "Epoch 30/300\n",
      "1054/1054 [==============================] - 3s 3ms/step - loss: 0.1709 - mae: 4.2233 - val_loss: 0.1489 - val_mae: 4.0702\n",
      "Epoch 31/300\n",
      "1054/1054 [==============================] - 3s 3ms/step - loss: 0.1654 - mae: 4.1600 - val_loss: 0.1498 - val_mae: 4.1791\n",
      "Epoch 32/300\n",
      "1054/1054 [==============================] - 3s 2ms/step - loss: 0.1674 - mae: 4.0131 - val_loss: 0.1531 - val_mae: 3.8663\n",
      "Epoch 33/300\n",
      "1054/1054 [==============================] - 3s 3ms/step - loss: 0.1631 - mae: 3.9830 - val_loss: 0.1503 - val_mae: 4.1557\n",
      "Epoch 34/300\n",
      "1054/1054 [==============================] - 3s 3ms/step - loss: 0.1665 - mae: 4.0083 - val_loss: 0.1524 - val_mae: 4.2191\n",
      "Epoch 35/300\n",
      "1054/1054 [==============================] - 3s 3ms/step - loss: 0.1600 - mae: 4.1570 - val_loss: 0.1625 - val_mae: 4.0827\n",
      "Epoch 36/300\n",
      "1054/1054 [==============================] - 3s 3ms/step - loss: 0.1664 - mae: 4.1584 - val_loss: 0.1413 - val_mae: 3.7008\n",
      "Epoch 37/300\n",
      "1054/1054 [==============================] - 3s 3ms/step - loss: 0.1668 - mae: 3.9595 - val_loss: 0.1609 - val_mae: 3.7959\n",
      "Epoch 38/300\n",
      "1054/1054 [==============================] - 3s 2ms/step - loss: 0.1556 - mae: 3.8923 - val_loss: 0.1478 - val_mae: 3.5955\n",
      "Epoch 39/300\n",
      "1054/1054 [==============================] - 3s 3ms/step - loss: 0.1611 - mae: 4.0624 - val_loss: 0.1433 - val_mae: 4.0444\n",
      "Epoch 40/300\n",
      "1054/1054 [==============================] - 3s 2ms/step - loss: 0.1611 - mae: 4.0386 - val_loss: 0.1744 - val_mae: 4.0251\n",
      "Epoch 41/300\n",
      "1054/1054 [==============================] - 3s 3ms/step - loss: 0.1596 - mae: 3.8105 - val_loss: 0.1592 - val_mae: 3.9615\n",
      "Epoch 42/300\n",
      "1054/1054 [==============================] - 3s 3ms/step - loss: 0.1540 - mae: 3.8528 - val_loss: 0.1496 - val_mae: 3.8888\n",
      "Epoch 43/300\n",
      "1054/1054 [==============================] - 3s 3ms/step - loss: 0.1582 - mae: 3.8202 - val_loss: 0.1467 - val_mae: 3.6174\n",
      "Epoch 44/300\n",
      "1054/1054 [==============================] - 3s 3ms/step - loss: 0.1583 - mae: 3.6529 - val_loss: 0.1573 - val_mae: 3.6356\n",
      "Epoch 45/300\n",
      "1054/1054 [==============================] - 3s 3ms/step - loss: 0.1588 - mae: 3.9068 - val_loss: 0.1437 - val_mae: 3.8642\n",
      "Epoch 46/300\n",
      "1054/1054 [==============================] - 3s 3ms/step - loss: 0.1529 - mae: 3.9278 - val_loss: 0.1483 - val_mae: 3.8644\n",
      "Epoch 47/300\n",
      "1054/1054 [==============================] - 3s 2ms/step - loss: 0.1568 - mae: 3.9083 - val_loss: 0.1630 - val_mae: 3.9365\n",
      "Epoch 48/300\n",
      "1054/1054 [==============================] - 3s 3ms/step - loss: 0.1577 - mae: 3.8589 - val_loss: 0.1459 - val_mae: 3.9293\n",
      "Epoch 49/300\n",
      "1054/1054 [==============================] - 3s 2ms/step - loss: 0.1614 - mae: 3.9117 - val_loss: 0.1472 - val_mae: 3.8100\n",
      "Epoch 50/300\n",
      "1054/1054 [==============================] - 3s 3ms/step - loss: 0.1526 - mae: 3.9434 - val_loss: 0.1504 - val_mae: 3.8528\n",
      "Epoch 51/300\n",
      "1054/1054 [==============================] - 3s 3ms/step - loss: 0.1523 - mae: 3.8780 - val_loss: 0.1453 - val_mae: 4.0361\n",
      "Epoch 52/300\n",
      "1054/1054 [==============================] - 3s 3ms/step - loss: 0.1475 - mae: 4.0282 - val_loss: 0.1452 - val_mae: 3.9028\n",
      "Epoch 53/300\n",
      "1054/1054 [==============================] - 3s 3ms/step - loss: 0.1540 - mae: 4.0539 - val_loss: 0.1574 - val_mae: 4.1222\n",
      "Epoch 54/300\n",
      "1054/1054 [==============================] - 3s 3ms/step - loss: 0.1433 - mae: 3.9663 - val_loss: 0.1359 - val_mae: 3.8363\n",
      "Epoch 55/300\n",
      "1054/1054 [==============================] - 3s 3ms/step - loss: 0.1539 - mae: 3.9303 - val_loss: 0.1602 - val_mae: 3.7876\n",
      "Epoch 56/300\n",
      "1054/1054 [==============================] - 3s 3ms/step - loss: 0.1434 - mae: 3.9665 - val_loss: 0.1474 - val_mae: 4.1539\n",
      "Epoch 57/300\n",
      "1054/1054 [==============================] - 3s 3ms/step - loss: 0.1496 - mae: 4.0696 - val_loss: 0.1452 - val_mae: 3.8341\n",
      "Epoch 58/300\n",
      "1054/1054 [==============================] - 3s 3ms/step - loss: 0.1494 - mae: 4.0553 - val_loss: 0.1383 - val_mae: 3.8885\n",
      "Epoch 59/300\n",
      "1054/1054 [==============================] - 3s 3ms/step - loss: 0.1478 - mae: 3.9696 - val_loss: 0.1616 - val_mae: 4.0896\n",
      "Epoch 60/300\n",
      "1054/1054 [==============================] - 3s 2ms/step - loss: 0.1450 - mae: 3.8463 - val_loss: 0.1422 - val_mae: 3.6139\n",
      "Epoch 61/300\n",
      "1054/1054 [==============================] - 3s 2ms/step - loss: 0.1477 - mae: 3.8989 - val_loss: 0.1351 - val_mae: 3.7544\n",
      "Epoch 62/300\n",
      "1054/1054 [==============================] - 3s 3ms/step - loss: 0.1461 - mae: 3.8284 - val_loss: 0.1341 - val_mae: 3.9008\n",
      "Epoch 63/300\n",
      "1054/1054 [==============================] - 3s 3ms/step - loss: 0.1427 - mae: 3.9757 - val_loss: 0.1373 - val_mae: 3.8373\n",
      "Epoch 64/300\n",
      "1054/1054 [==============================] - 3s 3ms/step - loss: 0.1451 - mae: 3.9180 - val_loss: 0.1372 - val_mae: 4.1130\n",
      "Epoch 65/300\n",
      "1054/1054 [==============================] - 3s 3ms/step - loss: 0.1455 - mae: 3.8817 - val_loss: 0.1498 - val_mae: 3.9866\n",
      "Epoch 66/300\n",
      "1054/1054 [==============================] - 3s 3ms/step - loss: 0.1423 - mae: 3.8263 - val_loss: 0.1327 - val_mae: 3.8847\n",
      "Epoch 67/300\n",
      "1054/1054 [==============================] - 3s 3ms/step - loss: 0.1464 - mae: 3.9059 - val_loss: 0.1449 - val_mae: 3.9676\n",
      "Epoch 68/300\n",
      "1054/1054 [==============================] - 3s 3ms/step - loss: 0.1433 - mae: 3.8681 - val_loss: 0.1371 - val_mae: 3.7663\n",
      "Epoch 69/300\n",
      "1054/1054 [==============================] - 3s 3ms/step - loss: 0.1396 - mae: 3.8458 - val_loss: 0.1448 - val_mae: 3.8584\n",
      "Epoch 70/300\n",
      "1054/1054 [==============================] - 3s 3ms/step - loss: 0.1407 - mae: 3.8223 - val_loss: 0.1375 - val_mae: 3.6769\n",
      "Epoch 71/300\n",
      "1054/1054 [==============================] - 3s 3ms/step - loss: 0.1455 - mae: 3.8975 - val_loss: 0.1350 - val_mae: 3.6902\n",
      "Epoch 72/300\n",
      "1054/1054 [==============================] - 3s 3ms/step - loss: 0.1385 - mae: 3.7307 - val_loss: 0.1402 - val_mae: 3.7840\n",
      "Epoch 73/300\n",
      "1054/1054 [==============================] - 3s 3ms/step - loss: 0.1426 - mae: 3.8499 - val_loss: 0.1372 - val_mae: 3.6497\n",
      "Epoch 74/300\n",
      "1054/1054 [==============================] - 3s 3ms/step - loss: 0.1397 - mae: 3.6261 - val_loss: 0.1315 - val_mae: 3.4930\n",
      "Epoch 75/300\n",
      "1054/1054 [==============================] - 3s 2ms/step - loss: 0.1412 - mae: 3.7718 - val_loss: 0.1281 - val_mae: 3.6906\n",
      "Epoch 76/300\n",
      "1054/1054 [==============================] - 3s 3ms/step - loss: 0.1429 - mae: 3.7303 - val_loss: 0.2238 - val_mae: 3.9600\n",
      "Epoch 77/300\n",
      "1054/1054 [==============================] - 3s 2ms/step - loss: 0.1420 - mae: 3.6470 - val_loss: 0.1343 - val_mae: 3.8318\n",
      "Epoch 78/300\n",
      "1054/1054 [==============================] - 3s 3ms/step - loss: 0.1474 - mae: 3.8014 - val_loss: 0.1359 - val_mae: 3.8021\n",
      "Epoch 79/300\n",
      "1054/1054 [==============================] - 3s 2ms/step - loss: 0.1402 - mae: 3.6402 - val_loss: 0.1479 - val_mae: 3.5998\n",
      "Epoch 80/300\n",
      "1054/1054 [==============================] - 3s 3ms/step - loss: 0.1369 - mae: 3.6963 - val_loss: 0.1411 - val_mae: 3.7842\n",
      "Epoch 81/300\n",
      "1054/1054 [==============================] - 3s 3ms/step - loss: 0.1443 - mae: 3.8337 - val_loss: 0.1437 - val_mae: 3.8985\n",
      "Epoch 82/300\n",
      "1054/1054 [==============================] - 3s 3ms/step - loss: 0.1396 - mae: 3.7900 - val_loss: 0.1514 - val_mae: 3.8714\n",
      "Epoch 83/300\n",
      "1054/1054 [==============================] - 3s 2ms/step - loss: 0.1341 - mae: 3.6874 - val_loss: 0.1295 - val_mae: 3.6469\n",
      "Epoch 84/300\n",
      "1054/1054 [==============================] - 3s 2ms/step - loss: 0.1349 - mae: 3.6607 - val_loss: 0.1446 - val_mae: 3.8143\n",
      "Epoch 85/300\n",
      "1054/1054 [==============================] - 3s 3ms/step - loss: 0.1366 - mae: 3.6799 - val_loss: 0.1303 - val_mae: 3.4386\n",
      "Epoch 86/300\n",
      "1054/1054 [==============================] - 3s 3ms/step - loss: 0.1578 - mae: 3.5232 - val_loss: 0.1530 - val_mae: 3.6305\n",
      "Epoch 87/300\n",
      "1054/1054 [==============================] - 3s 2ms/step - loss: 0.1444 - mae: 3.4648 - val_loss: 0.1318 - val_mae: 3.7824\n",
      "Epoch 88/300\n",
      "1054/1054 [==============================] - 3s 2ms/step - loss: 0.1441 - mae: 3.5302 - val_loss: 0.1265 - val_mae: 3.4152\n",
      "Epoch 89/300\n",
      "1054/1054 [==============================] - 3s 3ms/step - loss: 0.1341 - mae: 3.5149 - val_loss: 0.1358 - val_mae: 3.3934\n",
      "Epoch 90/300\n",
      "1054/1054 [==============================] - 3s 2ms/step - loss: 0.1363 - mae: 3.4322 - val_loss: 0.1320 - val_mae: 3.3419\n",
      "Epoch 91/300\n",
      "1054/1054 [==============================] - 3s 2ms/step - loss: 0.1386 - mae: 3.4234 - val_loss: 0.1382 - val_mae: 3.5359\n",
      "Epoch 92/300\n",
      "1054/1054 [==============================] - 3s 2ms/step - loss: 0.1369 - mae: 3.4833 - val_loss: 0.1252 - val_mae: 3.3536\n",
      "Epoch 93/300\n",
      "1054/1054 [==============================] - 3s 3ms/step - loss: 0.1335 - mae: 3.6300 - val_loss: 0.1326 - val_mae: 3.6340\n",
      "Epoch 94/300\n",
      "1054/1054 [==============================] - 3s 2ms/step - loss: 0.1369 - mae: 3.4791 - val_loss: 0.1357 - val_mae: 3.0830\n",
      "Epoch 95/300\n",
      "1054/1054 [==============================] - 3s 2ms/step - loss: 0.1530 - mae: 3.4728 - val_loss: 0.1458 - val_mae: 3.3449\n",
      "Epoch 96/300\n",
      "1054/1054 [==============================] - 3s 3ms/step - loss: 0.1331 - mae: 3.4898 - val_loss: 0.1279 - val_mae: 3.4721\n",
      "Epoch 97/300\n",
      "1054/1054 [==============================] - 3s 3ms/step - loss: 0.1337 - mae: 3.5262 - val_loss: 0.1264 - val_mae: 3.3156\n",
      "Epoch 98/300\n",
      "1054/1054 [==============================] - 3s 3ms/step - loss: 0.1371 - mae: 3.3970 - val_loss: 0.1362 - val_mae: 3.4174\n",
      "Epoch 99/300\n",
      "1054/1054 [==============================] - 3s 2ms/step - loss: 0.1350 - mae: 3.4869 - val_loss: 0.1363 - val_mae: 3.4890\n",
      "Epoch 100/300\n",
      "1054/1054 [==============================] - 3s 3ms/step - loss: 0.1401 - mae: 3.3214 - val_loss: 0.1297 - val_mae: 3.0592\n",
      "Epoch 101/300\n",
      "1054/1054 [==============================] - 3s 2ms/step - loss: 0.1350 - mae: 3.2375 - val_loss: 0.1267 - val_mae: 3.2387\n",
      "Epoch 102/300\n",
      "1054/1054 [==============================] - 3s 3ms/step - loss: 0.1389 - mae: 3.3274 - val_loss: 0.1363 - val_mae: 3.0442\n",
      "Epoch 103/300\n",
      "1054/1054 [==============================] - 3s 3ms/step - loss: 0.1408 - mae: 3.3939 - val_loss: 0.1338 - val_mae: 2.8682\n",
      "Epoch 104/300\n",
      "1054/1054 [==============================] - 3s 3ms/step - loss: 0.1334 - mae: 3.3115 - val_loss: 0.1309 - val_mae: 3.4990\n",
      "Epoch 105/300\n",
      "1054/1054 [==============================] - 3s 3ms/step - loss: 0.1369 - mae: 3.4743 - val_loss: 0.1333 - val_mae: 3.3227\n",
      "Epoch 106/300\n",
      "1054/1054 [==============================] - 3s 2ms/step - loss: 0.1356 - mae: 3.5545 - val_loss: 0.1346 - val_mae: 3.3373\n",
      "Epoch 107/300\n",
      "1054/1054 [==============================] - 3s 3ms/step - loss: 0.1335 - mae: 3.6105 - val_loss: 0.1314 - val_mae: 3.5679\n",
      "Epoch 108/300\n",
      "1054/1054 [==============================] - 3s 3ms/step - loss: 0.1348 - mae: 3.5959 - val_loss: 0.1389 - val_mae: 3.8438\n",
      "Epoch 109/300\n",
      "1054/1054 [==============================] - 3s 2ms/step - loss: 0.1363 - mae: 3.7646 - val_loss: 0.1370 - val_mae: 3.7087\n",
      "Epoch 110/300\n",
      "1054/1054 [==============================] - 3s 3ms/step - loss: 0.1308 - mae: 3.5995 - val_loss: 0.1385 - val_mae: 3.7160\n",
      "Epoch 111/300\n",
      "1054/1054 [==============================] - 3s 3ms/step - loss: 0.1321 - mae: 3.6333 - val_loss: 0.1302 - val_mae: 3.4174\n",
      "Epoch 112/300\n",
      "1054/1054 [==============================] - 3s 3ms/step - loss: 0.1363 - mae: 3.3325 - val_loss: 0.1349 - val_mae: 3.3514\n",
      "Epoch 113/300\n",
      "1054/1054 [==============================] - 3s 2ms/step - loss: 0.1297 - mae: 3.5402 - val_loss: 0.1275 - val_mae: 3.4349\n",
      "Epoch 114/300\n",
      "1054/1054 [==============================] - 3s 3ms/step - loss: 0.1316 - mae: 3.4805 - val_loss: 0.1293 - val_mae: 3.1428\n",
      "Epoch 115/300\n",
      "1054/1054 [==============================] - 3s 3ms/step - loss: 0.1335 - mae: 3.3231 - val_loss: 0.1426 - val_mae: 3.4207\n",
      "Epoch 116/300\n",
      "1054/1054 [==============================] - 3s 2ms/step - loss: 0.1335 - mae: 3.3184 - val_loss: 0.1272 - val_mae: 3.3518\n",
      "Epoch 117/300\n",
      "1054/1054 [==============================] - 3s 2ms/step - loss: 0.1438 - mae: 3.5465 - val_loss: 0.2901 - val_mae: 4.4164\n",
      "Epoch 118/300\n",
      "1054/1054 [==============================] - 3s 2ms/step - loss: 0.1382 - mae: 3.5102 - val_loss: 0.1785 - val_mae: 3.5873\n",
      "Epoch 119/300\n",
      "1054/1054 [==============================] - 3s 3ms/step - loss: 0.1303 - mae: 3.5197 - val_loss: 0.1400 - val_mae: 3.6019\n",
      "Epoch 120/300\n",
      "1054/1054 [==============================] - 3s 2ms/step - loss: 0.1339 - mae: 3.4782 - val_loss: 0.1280 - val_mae: 3.4071\n",
      "Epoch 121/300\n",
      "1054/1054 [==============================] - 3s 2ms/step - loss: 0.1316 - mae: 3.5165 - val_loss: 0.1239 - val_mae: 3.3213\n",
      "Epoch 122/300\n",
      "1054/1054 [==============================] - 3s 2ms/step - loss: 0.1394 - mae: 3.5574 - val_loss: 0.1253 - val_mae: 3.3711\n",
      "Epoch 123/300\n",
      "1054/1054 [==============================] - 3s 3ms/step - loss: 0.1290 - mae: 3.3324 - val_loss: 0.1270 - val_mae: 3.5614\n",
      "Epoch 124/300\n",
      "1054/1054 [==============================] - 4s 4ms/step - loss: 0.1289 - mae: 3.3565 - val_loss: 0.1221 - val_mae: 3.3013\n",
      "Epoch 125/300\n",
      "1054/1054 [==============================] - 3s 2ms/step - loss: 0.1340 - mae: 3.3498 - val_loss: 0.1319 - val_mae: 2.9773\n",
      "Epoch 126/300\n",
      "1054/1054 [==============================] - 3s 3ms/step - loss: 0.1350 - mae: 3.4004 - val_loss: 0.1291 - val_mae: 3.0395\n",
      "Epoch 127/300\n",
      "1054/1054 [==============================] - 3s 3ms/step - loss: 0.1306 - mae: 3.4879 - val_loss: 0.1317 - val_mae: 3.6728\n",
      "Epoch 128/300\n",
      "1054/1054 [==============================] - 3s 2ms/step - loss: 0.1278 - mae: 3.3746 - val_loss: 0.1247 - val_mae: 3.2376\n",
      "Epoch 129/300\n",
      "1054/1054 [==============================] - 3s 3ms/step - loss: 0.1318 - mae: 3.3590 - val_loss: 0.1408 - val_mae: 3.6961\n",
      "Epoch 130/300\n",
      "1054/1054 [==============================] - 3s 3ms/step - loss: 0.1301 - mae: 3.3339 - val_loss: 0.1340 - val_mae: 3.3343\n",
      "Epoch 131/300\n",
      "1054/1054 [==============================] - 3s 2ms/step - loss: 0.1322 - mae: 3.2653 - val_loss: 0.1301 - val_mae: 3.5014\n",
      "Epoch 132/300\n",
      "1054/1054 [==============================] - 3s 2ms/step - loss: 0.1299 - mae: 3.2734 - val_loss: 0.1253 - val_mae: 3.1993\n",
      "Epoch 133/300\n",
      "1054/1054 [==============================] - 3s 3ms/step - loss: 0.1285 - mae: 3.3490 - val_loss: 0.1843 - val_mae: 3.2985\n",
      "Epoch 134/300\n",
      "1054/1054 [==============================] - 3s 3ms/step - loss: 0.1377 - mae: 3.2571 - val_loss: 0.1264 - val_mae: 3.3495\n",
      "Epoch 135/300\n",
      "1054/1054 [==============================] - 3s 3ms/step - loss: 0.1279 - mae: 3.1743 - val_loss: 0.1300 - val_mae: 2.8606\n",
      "Epoch 136/300\n",
      "1054/1054 [==============================] - 3s 3ms/step - loss: 0.1339 - mae: 3.2221 - val_loss: 0.1285 - val_mae: 3.0630\n",
      "Epoch 137/300\n",
      "1054/1054 [==============================] - 3s 3ms/step - loss: 0.1271 - mae: 3.2937 - val_loss: 0.1258 - val_mae: 3.5581\n",
      "Epoch 138/300\n",
      "1054/1054 [==============================] - 3s 2ms/step - loss: 0.1310 - mae: 3.4440 - val_loss: 0.1346 - val_mae: 3.4178\n",
      "Epoch 139/300\n",
      "1054/1054 [==============================] - 3s 3ms/step - loss: 0.1285 - mae: 3.2965 - val_loss: 0.1403 - val_mae: 3.2825\n",
      "Epoch 140/300\n",
      "1054/1054 [==============================] - 3s 3ms/step - loss: 0.1357 - mae: 3.3290 - val_loss: 0.1281 - val_mae: 3.1293\n",
      "Epoch 141/300\n",
      "1054/1054 [==============================] - 3s 3ms/step - loss: 0.1301 - mae: 3.2818 - val_loss: 0.1265 - val_mae: 3.3831\n",
      "Epoch 142/300\n",
      "1054/1054 [==============================] - 3s 2ms/step - loss: 0.1277 - mae: 3.3495 - val_loss: 0.1256 - val_mae: 2.9840\n",
      "Epoch 143/300\n",
      "1054/1054 [==============================] - 3s 2ms/step - loss: 0.1275 - mae: 3.2571 - val_loss: 0.1407 - val_mae: 3.1671\n",
      "Epoch 144/300\n",
      "1054/1054 [==============================] - 3s 3ms/step - loss: 0.1296 - mae: 3.3189 - val_loss: 0.1260 - val_mae: 3.0758\n",
      "Epoch 145/300\n",
      "1054/1054 [==============================] - 3s 3ms/step - loss: 0.1286 - mae: 3.1816 - val_loss: 0.1268 - val_mae: 2.9916\n",
      "Epoch 146/300\n",
      "1054/1054 [==============================] - 3s 3ms/step - loss: 0.1313 - mae: 3.1448 - val_loss: 0.1260 - val_mae: 3.0373\n",
      "Epoch 147/300\n",
      "1054/1054 [==============================] - 3s 3ms/step - loss: 0.1286 - mae: 3.2458 - val_loss: 0.1256 - val_mae: 3.3882\n",
      "Epoch 148/300\n",
      "1054/1054 [==============================] - 3s 3ms/step - loss: 0.1344 - mae: 3.2033 - val_loss: 0.1245 - val_mae: 3.2937\n",
      "Epoch 149/300\n",
      "1054/1054 [==============================] - 3s 2ms/step - loss: 0.1244 - mae: 3.1215 - val_loss: 0.1239 - val_mae: 3.0546\n",
      "Epoch 150/300\n",
      "1054/1054 [==============================] - 3s 3ms/step - loss: 0.1273 - mae: 3.1436 - val_loss: 0.1292 - val_mae: 3.6529\n",
      "Epoch 151/300\n",
      "1054/1054 [==============================] - 3s 2ms/step - loss: 0.1298 - mae: 3.1883 - val_loss: 0.1392 - val_mae: 3.1928\n",
      "Epoch 152/300\n",
      "1054/1054 [==============================] - 3s 3ms/step - loss: 0.1321 - mae: 3.4415 - val_loss: 0.1318 - val_mae: 3.4139\n",
      "Epoch 153/300\n",
      "1054/1054 [==============================] - 3s 2ms/step - loss: 0.1321 - mae: 3.4148 - val_loss: 0.1301 - val_mae: 3.5738\n",
      "Epoch 154/300\n",
      "1054/1054 [==============================] - 3s 3ms/step - loss: 0.1252 - mae: 3.3962 - val_loss: 0.1261 - val_mae: 3.2260\n"
     ]
    }
   ],
   "source": [
    "m.model_fit()"
   ]
  },
  {
   "cell_type": "markdown",
   "id": "d9be5a2b",
   "metadata": {},
   "source": [
    "## Evaluate the model"
   ]
  },
  {
   "cell_type": "code",
   "execution_count": 73,
   "id": "7bac7980",
   "metadata": {},
   "outputs": [
    {
     "data": {
      "image/png": "[encoded data removed]",
      "text/plain": [
       "<Figure size 1152x360 with 2 Axes>"
      ]
     },
     "metadata": {
      "needs_background": "light"
     },
     "output_type": "display_data"
    }
   ],
   "source": [
    "m.plot_history()"
   ]
  },
  {
   "cell_type": "code",
   "execution_count": 74,
   "id": "25be06af",
   "metadata": {},
   "outputs": [
    {
     "name": "stdout",
     "output_type": "stream",
     "text": [
      "MSLE = 0.123694509267807\n",
      "MAE = 3.2725911140441895\n"
     ]
    }
   ],
   "source": [
    "m.model_evaluate()"
   ]
  },
  {
   "cell_type": "markdown",
   "id": "a65baee3",
   "metadata": {},
   "source": [
    "## Predict the data"
   ]
  },
  {
   "cell_type": "code",
   "execution_count": 77,
   "id": "4e505877",
   "metadata": {},
   "outputs": [
    {
     "data": {
      "image/png": "[encoded data removed]",
      "text/plain": [
       "<Figure size 432x288 with 1 Axes>"
      ]
     },
     "metadata": {
      "needs_background": "light"
     },
     "output_type": "display_data"
    }
   ],
   "source": [
    "m.predict_deep()"
   ]
  },
  {
   "cell_type": "markdown",
   "id": "d1e3d3fe-c62a-4e64-b5fe-47e835e2ad49",
   "metadata": {},
   "source": [
    "# Time Series Analisys"
   ]
  },
  {
   "cell_type": "code",
   "execution_count": null,
   "id": "67e372cb-c988-4996-a443-0120b36665b9",
   "metadata": {},
   "outputs": [],
   "source": [
    "from statsmodels.tsa.seasonal import seasonal_decompose\n",
    "decomp_add = seasonal_decompose(y, model=\"additive\")\n",
    "decomp_mult = seasonal_decompose(y, model=\"multiplicative\")"
   ]
  },
  {
   "cell_type": "code",
   "execution_count": null,
   "id": "e3401cd2-aa25-4b3b-82f9-1d966071e720",
   "metadata": {},
   "outputs": [],
   "source": [
    "decomp_mult.plot();"
   ]
  },
  {
   "cell_type": "code",
   "execution_count": null,
   "id": "9558158f-b535-4d2f-9a38-5a316c25fa8a",
   "metadata": {},
   "outputs": [],
   "source": [
    "decomp_add.plot();"
   ]
  },
  {
   "cell_type": "markdown",
   "id": "0d8f3587-cde1-441f-a532-e5f2fce47d3a",
   "metadata": {},
   "source": [
    "### Split train test data - the data is already Standard Scaled\n"
   ]
  },
  {
   "cell_type": "code",
   "execution_count": null,
   "id": "16b08636-293b-44c3-af76-d1763701b643",
   "metadata": {},
   "outputs": [],
   "source": [
    "len_ = int(0.8*df.shape[0])\n",
    "df_train = df[:len_]\n",
    "df_test = df[len_:]\n",
    "print(df_train.shape)\n",
    "print(df_test.shape)"
   ]
  },
  {
   "cell_type": "code",
   "execution_count": null,
   "id": "341e72c7-34ae-4137-b470-f299c307facb",
   "metadata": {},
   "outputs": [],
   "source": [
    "print(\"train shape: {}, test shape: {}\".format(df_train.shape,df_test.shape))"
   ]
  },
  {
   "cell_type": "markdown",
   "id": "32dbda97-d16d-4e81-b121-f50768fa4eed",
   "metadata": {},
   "source": [
    "## Create (X,y)"
   ]
  },
  {
   "cell_type": "code",
   "execution_count": null,
   "id": "3eb46fcc-52a9-4eec-a668-ad1df8513931",
   "metadata": {},
   "outputs": [],
   "source": [
    "import numpy as np\n",
    "\n",
    "def subsample_sequence(df, length):\n",
    "    \"\"\"\n",
    "    Given the initial dataframe `df`, return a shorter dataframe sequence of length `length`.\n",
    "    This shorter sequence should be selected at random.\n",
    "    \"\"\"\n",
    "    \n",
    "    last_possible = df.shape[0] - length\n",
    "    \n",
    "    random_start = np.random.randint(0, last_possible)\n",
    "    df_sample = df[random_start: random_start+length]\n",
    "    \n",
    "    return df_sample\n",
    "\n",
    "def compute_means(X, df_mean):\n",
    "    '''utils'''\n",
    "    # Compute means of X\n",
    "    means = X.mean()\n",
    "    \n",
    "    # Case if ALL values of at least one feature of X are NaN, then reaplace with the whole df_mean\n",
    "    if means.isna().sum() != 0:\n",
    "        means.fillna(df_mean, inplace=True)\n",
    "        \n",
    "    return means\n",
    "\n",
    "def split_subsample_sequence(df, length, df_mean=None):\n",
    "    \"\"\"Return one single sample (Xi, yi) containing one sequence each of length `length`\"\"\"\n",
    "    features_names = ['TEMP', 'DEWP', 'PRES', 'Ir', 'Is', 'Iws']\n",
    "    \n",
    "    # Trick to save time during the recursive calls\n",
    "    if df_mean is None:\n",
    "        df_mean = df[features_names].mean()\n",
    "        \n",
    "    df_subsample = subsample_sequence(df, length).copy()\n",
    "    \n",
    "    # Let's drop any row without a target! We need targets to fit our model\n",
    "    df_subsample.dropna(how='any', subset=['pm2.5'], inplace=True)\n",
    "    \n",
    "    # Create y_sample\n",
    "    if df_subsample.shape[0] == 0: # Case if there is no targets at all remaining\n",
    "        return split_subsample_sequence(df, length, df_mean) # Redraw by recursive call until it's not the case anymore\n",
    "    y_sample = df_subsample[['pm2.5']]\n",
    "    \n",
    "    # Create X_sample\n",
    "    X_sample = df_subsample[features_names]\n",
    "    if X_sample.isna().sum().sum() !=0:  # Case X_sample has some NaNs\n",
    "        X_sample = X_sample.fillna(compute_means(X_sample, df_mean))\n",
    "        \n",
    "    return np.array(X_sample), np.array(y_sample)\n",
    "\n",
    "def get_X_y(df, sequence_lengths):\n",
    "    '''Return a dataset (X, y)'''\n",
    "    X, y = [], []\n",
    "\n",
    "    for length in sequence_lengths:\n",
    "        xi, yi = split_subsample_sequence(df, length)\n",
    "        X.append(xi)\n",
    "        y.append(yi)\n",
    "        \n",
    "    return X, y"
   ]
  },
  {
   "cell_type": "code",
   "execution_count": null,
   "id": "ab633682-ddf9-479f-9a59-46caa19b0b51",
   "metadata": {},
   "outputs": [],
   "source": [
    "train_size = 1000\n",
    "test_size = round(0.2 * train_size)\n",
    "\n",
    "min_seq_len = 15\n",
    "max_seq_len = 30"
   ]
  },
  {
   "cell_type": "code",
   "execution_count": null,
   "id": "3abd09e7-ceb9-4ce4-9e35-9b54055880d2",
   "metadata": {},
   "outputs": [],
   "source": [
    "# Let's generate some train/test sets\n",
    "sequence_lengths_train = np.random.randint(low=min_seq_len, high=max_seq_len, size=train_size)\n",
    "X_train, y_train = get_X_y(df_train, sequence_lengths_train)\n",
    "\n",
    "sequence_lengths_test = np.random.randint(low=min_seq_len, high=max_seq_len, size=test_size)\n",
    "X_test, y_test = get_X_y(df_test, sequence_lengths_test)"
   ]
  },
  {
   "cell_type": "markdown",
   "id": "1da1b105-3d41-4dbe-99bb-7a5070e67f08",
   "metadata": {},
   "source": [
    "## Padding sequences with differences in lenght"
   ]
  },
  {
   "cell_type": "code",
   "execution_count": null,
   "id": "ab95ba37-e482-4686-91ca-be32cb7ef281",
   "metadata": {},
   "outputs": [],
   "source": [
    "from tensorflow.keras.preprocessing.sequence import pad_sequences\n",
    "\n",
    "X_train_pad = pad_sequences(X_train, value=-1000., dtype=float, padding='post', maxlen=30)\n",
    "y_train_pad = pad_sequences(y_train, value=-1000., dtype=float, padding='post', maxlen=30)\n",
    "\n",
    "X_test_pad = pad_sequences(X_test, value=-1000., dtype=float, padding='post', maxlen=30)\n",
    "y_test_pad = pad_sequences(y_test, value=-1000., dtype=float, padding='post', maxlen=30)\n",
    "\n",
    "X_train_pad.shape"
   ]
  },
  {
   "cell_type": "markdown",
   "id": "8a52bb63-d04e-4562-9d96-9a57c4bbf415",
   "metadata": {},
   "source": [
    "## Validation baseline with mean"
   ]
  },
  {
   "cell_type": "code",
   "execution_count": null,
   "id": "c5478dc8-ca27-4b3e-bff9-02473c49f1a9",
   "metadata": {},
   "outputs": [],
   "source": [
    "# We here decide to predict the mean of the train set y_train\n",
    "y_pred = np.mean([_ for elt in y_train for _ in elt])\n",
    "bench_res = np.mean(np.abs([_-y_pred for elt in y_test for _ in elt]))\n",
    "\n",
    "print(f'Benchmark MAE on the test set : {bench_res:.4f}')"
   ]
  },
  {
   "cell_type": "markdown",
   "id": "cbe23e92-bacb-48f0-abd1-7e5e9117fc63",
   "metadata": {},
   "source": [
    "## Deep Learning Model"
   ]
  },
  {
   "cell_type": "code",
   "execution_count": null,
   "id": "2377ac34-fa67-4bf5-b912-0e7a6598101f",
   "metadata": {},
   "outputs": [],
   "source": [
    "from tensorflow.keras import models\n",
    "from tensorflow.keras import layers\n",
    "from tensorflow.keras.optimizers import RMSprop\n",
    "\n",
    "def init_model():\n",
    "    \n",
    "    model = models.Sequential()\n",
    "    model.add(layers.Masking(mask_value=-1000., input_shape=(30,6)))\n",
    "    model.add(layers.LSTM(20, return_sequences=True, activation='tanh'))\n",
    "    model.add(layers.LSTM(10, return_sequences=True, activation='tanh'))\n",
    "    model.add(layers.Dense(5, activation='relu'))\n",
    "    model.add(layers.Dense(1, activation='linear'))\n",
    "    \n",
    "    model.compile(loss='mse', \n",
    "                  optimizer='rmsprop', \n",
    "                  metrics=['mae'])\n",
    "    model.compile(loss='mse', \n",
    "                  optimizer=RMSprop(learning_rate=0.0003), \n",
    "                  metrics=['mae'])\n",
    "    \n",
    "    return model\n",
    "\n",
    "init_model().summary()"
   ]
  },
  {
   "cell_type": "code",
   "execution_count": null,
   "id": "a805fc6b-553a-472c-9614-7855e7070fb0",
   "metadata": {},
   "outputs": [],
   "source": [
    "from tensorflow.keras.callbacks import EarlyStopping\n",
    "\n",
    "model = init_model()\n",
    "\n",
    "es = EarlyStopping(monitor='val_loss', mode='min', verbose=1, patience=5, restore_best_weights=True)\n",
    "\n",
    "history = model.fit(X_train_pad, y_train_pad,\n",
    "            validation_split=0.2,\n",
    "            epochs=1000, \n",
    "            batch_size=64,\n",
    "            callbacks=[es], verbose=0)"
   ]
  },
  {
   "cell_type": "code",
   "execution_count": null,
   "id": "85408372-4647-44f7-b81d-5c4f54110779",
   "metadata": {},
   "outputs": [],
   "source": [
    "import matplotlib.pyplot as plt\n",
    "plt.plot(history.history['mae'])\n",
    "plt.plot(history.history['val_mae'])"
   ]
  },
  {
   "cell_type": "code",
   "execution_count": null,
   "id": "f3216e16-3c77-4f77-a24e-e0865bb16be3",
   "metadata": {},
   "outputs": [],
   "source": [
    "res = model.evaluate(X_test_pad, y_test_pad, verbose=0)\n",
    "\n",
    "print(f'MAE on the test set : {res[1]:.4f}, or {res[1]/bench_res:.2f} times the benchmark')"
   ]
  },
  {
   "cell_type": "code",
   "execution_count": null,
   "id": "b0e6dd38-56db-4f92-9aaa-fbe4e40b9789",
   "metadata": {},
   "outputs": [],
   "source": [
    "plt.figure(figsize=(17,3))\n",
    "for id_plot, id_seq in enumerate(np.random.randint(low=0,high=len(X_test),size=5)):\n",
    "    plt.subplot(1, 5, id_plot+1)\n",
    "    plt.plot(y_test[id_seq], label='truth')\n",
    "    plt.plot(model.predict(X_test_pad)[id_seq], label='pred')\n",
    "    plt.ylim(ymin=0)\n",
    "plt.legend();"
   ]
  },
  {
   "cell_type": "code",
   "execution_count": null,
   "id": "757f34a6-5aa3-43fb-b094-09c912cf636a",
   "metadata": {},
   "outputs": [],
   "source": []
  },
  {
   "cell_type": "code",
   "execution_count": null,
   "id": "19fc64c7-22ae-48b4-a2a1-8c1c1a21f7d0",
   "metadata": {},
   "outputs": [],
   "source": []
  },
  {
   "cell_type": "code",
   "execution_count": null,
   "id": "51c790fa-987b-4536-9881-0fa9baea7316",
   "metadata": {},
   "outputs": [],
   "source": []
  },
  {
   "cell_type": "code",
   "execution_count": null,
   "id": "22fe282a-8198-4b82-94d6-dfa298647722",
   "metadata": {},
   "outputs": [],
   "source": []
  },
  {
   "cell_type": "code",
   "execution_count": null,
   "id": "404d099b-30d1-4c83-b7f4-a5a20d9c9995",
   "metadata": {},
   "outputs": [],
   "source": [
    "from statsmodels.tsa.stattools import adfuller\n",
    "print('p-value: ', adfuller(df_train[\"Sales\"])[1])"
   ]
  },
  {
   "cell_type": "code",
   "execution_count": null,
   "id": "8bd69bae-10d4-44c6-83bc-5b3c58aa857c",
   "metadata": {},
   "outputs": [],
   "source": []
  },
  {
   "cell_type": "code",
   "execution_count": null,
   "id": "ef8300ed-8941-4f04-9eba-b9f687c49abf",
   "metadata": {},
   "outputs": [],
   "source": []
  },
  {
   "cell_type": "code",
   "execution_count": null,
   "id": "195c62b1-f1da-48bc-92c9-3d3dfb09b29f",
   "metadata": {},
   "outputs": [],
   "source": []
  }
 ],
 "metadata": {
  "kernelspec": {
   "display_name": "Python 3 (ipykernel)",
   "language": "python",
   "name": "python3"
  },
  "language_info": {
   "codemirror_mode": {
    "name": "ipython",
    "version": 3
   },
   "file_extension": ".py",
   "mimetype": "text/x-python",
   "name": "python",
   "nbconvert_exporter": "python",
   "pygments_lexer": "ipython3",
   "version": "3.9.6"
  },
  "toc": {
   "base_numbering": 1,
   "nav_menu": {},
   "number_sections": true,
   "sideBar": true,
   "skip_h1_title": false,
   "title_cell": "Table of Contents",
   "title_sidebar": "Contents",
   "toc_cell": false,
   "toc_position": {},
   "toc_section_display": true,
   "toc_window_display": false
  }
 },
 "nbformat": 4,
 "nbformat_minor": 5
}
