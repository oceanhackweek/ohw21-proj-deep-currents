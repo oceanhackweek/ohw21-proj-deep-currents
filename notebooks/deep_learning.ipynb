{
 "cells": [
  {
   "cell_type": "code",
   "execution_count": 1,
   "id": "0345e99c",
   "metadata": {},
   "outputs": [],
   "source": [
    "%load_ext autoreload\n",
    "%autoreload 2\n",
    "import pandas as pd\n",
    "import numpy as np\n",
    "import matplotlib.pyplot as plt\n",
    "import seaborn as sns\n",
    "from sklearn.pipeline import make_pipeline\n",
    "from sklearn.compose import ColumnTransformer\n",
    "from sklearn.pipeline import make_pipeline\n",
    "from sklearn.preprocessing import MinMaxScaler, StandardScaler\n",
    "from sklearn.impute import SimpleImputer, KNNImputer\n",
    "from sklearn.model_selection import train_test_split\n",
    "from tensorflow.keras import models\n",
    "from tensorflow.keras import layers\n",
    "from tensorflow.keras.callbacks import EarlyStopping\n",
    "from sklearn import set_config; set_config(display='diagram')"
   ]
  },
  {
   "cell_type": "code",
   "execution_count": 2,
   "id": "a8fcbdc1",
   "metadata": {},
   "outputs": [],
   "source": [
    "# Use this cell to regroup all your imports\n",
    "\n",
    "from scipy import stats\n",
    "import xarray as xr\n",
    "# sklearn preproc\n",
    "from sklearn.model_selection import train_test_split\n",
    "from sklearn.preprocessing import MinMaxScaler, StandardScaler\n",
    "from sklearn.pipeline import Pipeline, make_pipeline\n",
    "from sklearn.compose import ColumnTransformer, make_column_transformer, make_column_selector\n",
    "from sklearn.impute import SimpleImputer, KNNImputer\n",
    "from sklearn.preprocessing import RobustScaler, OneHotEncoder, OrdinalEncoder\n",
    "from sklearn.metrics import make_scorer, mean_squared_error\n",
    "\n",
    "from sklearn.model_selection import cross_val_score\n",
    "from sklearn.neighbors import KNeighborsRegressor\n",
    "from sklearn.linear_model import Ridge, Lasso, LinearRegression\n",
    "from sklearn.model_selection import RandomizedSearchCV\n",
    "from sklearn.svm import SVR\n",
    "from sklearn.model_selection import GridSearchCV, RandomizedSearchCV\n",
    "from sklearn.ensemble import AdaBoostRegressor\n",
    "from sklearn.tree import DecisionTreeRegressor\n",
    "from sklearn.ensemble import VotingRegressor\n",
    "from sklearn.ensemble import GradientBoostingRegressor\n",
    "from sklearn.ensemble import StackingRegressor\n",
    "from sklearn.ensemble import RandomForestRegressor"
   ]
  },
  {
   "cell_type": "markdown",
   "id": "70ac6f93",
   "metadata": {},
   "source": [
    "# Load data"
   ]
  },
  {
   "cell_type": "markdown",
   "id": "43986296",
   "metadata": {},
   "source": [
    "## Train data"
   ]
  },
  {
   "cell_type": "code",
   "execution_count": 3,
   "id": "fbb74a7a-8a80-499d-a814-9fce11199da0",
   "metadata": {},
   "outputs": [],
   "source": [
    "x = xr.open_dataset(\"X.nc\")"
   ]
  },
  {
   "cell_type": "code",
   "execution_count": 4,
   "id": "96a68ce8-923a-4abc-a90a-2cc257eaadfb",
   "metadata": {},
   "outputs": [],
   "source": [
    "X = x.to_array()[0]"
   ]
  },
  {
   "cell_type": "code",
   "execution_count": 5,
   "id": "47c17ac1-f13c-4115-8397-21cf0439d6de",
   "metadata": {},
   "outputs": [],
   "source": [
    "Y = xr.open_dataset(\"Y.nc\")"
   ]
  },
  {
   "cell_type": "code",
   "execution_count": 6,
   "id": "f9e2bc30-462b-4b84-b7a4-46e49e295ecb",
   "metadata": {},
   "outputs": [],
   "source": [
    "y = Y.to_dataframe()"
   ]
  },
  {
   "cell_type": "code",
   "execution_count": 7,
   "id": "5afce412-fcda-4328-af6e-2402b3f6f60f",
   "metadata": {},
   "outputs": [],
   "source": [
    "y = y['UCUR'].to_numpy()"
   ]
  },
  {
   "cell_type": "markdown",
   "id": "7564b7e9",
   "metadata": {},
   "source": [
    "## Test data"
   ]
  },
  {
   "cell_type": "markdown",
   "id": "040d5aa0",
   "metadata": {},
   "source": [
    "# Prepare data"
   ]
  },
  {
   "cell_type": "markdown",
   "id": "42b844d0",
   "metadata": {},
   "source": [
    "## Build pipeline for preproc data"
   ]
  },
  {
   "cell_type": "markdown",
   "id": "eb5cf83d",
   "metadata": {},
   "source": [
    "This pipeline is important to adjust the data to enter in the DL model.\n",
    "\n",
    "We are applying two corrections:\n",
    "- KNNImputer: to impute value when we have missing data. It will get the closest value to complete\n",
    "- Standardcale: to use ML and DL models, we have to rescale all variables to the same scale. I choose Standard sclae, but it will depends on the hist distribuition of the variations (normal distribution and outliers)"
   ]
  },
  {
   "cell_type": "code",
   "execution_count": 8,
   "id": "4e63fb2e-f6d8-40a5-b663-a18d0c853da0",
   "metadata": {},
   "outputs": [
    {
     "data": {
      "text/plain": [
       "(array([ 48., 144., 106.,  72.,  59.,  56.,  67.,  49.,  27.,  20.]),\n",
       " array([294.6000061 , 294.73620605, 294.87240601, 295.00860596,\n",
       "        295.14480591, 295.28100586, 295.41720581, 295.55340576,\n",
       "        295.68960571, 295.82580566, 295.96200562]),\n",
       " <BarContainer object of 10 artists>)"
      ]
     },
     "execution_count": 8,
     "metadata": {},
     "output_type": "execute_result"
    },
    {
     "data": {
      "image/png": "[encoded data removed]",
      "text/plain": [
       "<Figure size 432x288 with 1 Axes>"
      ]
     },
     "metadata": {
      "needs_background": "light"
     },
     "output_type": "display_data"
    }
   ],
   "source": [
    "plt.hist(X[0][17:-1])"
   ]
  },
  {
   "cell_type": "code",
   "execution_count": 9,
   "id": "f575a6f8",
   "metadata": {},
   "outputs": [
    {
     "data": {
      "text/plain": [
       "(array([3., 1., 0., 0., 0., 1., 1., 2., 3., 5.]),\n",
       " array([0.7934 , 0.80665, 0.8199 , 0.83315, 0.8464 , 0.85965, 0.8729 ,\n",
       "        0.88615, 0.8994 , 0.91265, 0.9259 ]),\n",
       " <BarContainer object of 10 artists>)"
      ]
     },
     "execution_count": 9,
     "metadata": {},
     "output_type": "execute_result"
    },
    {
     "data": {
      "image/png": "[encoded data removed]",
      "text/plain": [
       "<Figure size 432x288 with 1 Axes>"
      ]
     },
     "metadata": {
      "needs_background": "light"
     },
     "output_type": "display_data"
    }
   ],
   "source": [
    "plt.hist(X[0][0:16])"
   ]
  },
  {
   "cell_type": "code",
   "execution_count": 10,
   "id": "1face8b4",
   "metadata": {},
   "outputs": [],
   "source": [
    "def create_preproc(X):\n",
    "    scaler = StandardScaler()\n",
    "\n",
    "    return scaler"
   ]
  },
  {
   "cell_type": "markdown",
   "id": "26d7bd21",
   "metadata": {},
   "source": [
    "## Preproc data"
   ]
  },
  {
   "cell_type": "markdown",
   "id": "87c9776d",
   "metadata": {},
   "source": [
    "Just to show the preproc model ⬇️"
   ]
  },
  {
   "cell_type": "code",
   "execution_count": 11,
   "id": "fb7760c1",
   "metadata": {},
   "outputs": [],
   "source": [
    "preproc = create_preproc(X)"
   ]
  },
  {
   "cell_type": "markdown",
   "id": "19095f23",
   "metadata": {},
   "source": [
    "Fit and transform the data ⬇️"
   ]
  },
  {
   "cell_type": "code",
   "execution_count": 12,
   "id": "fd54e6d6",
   "metadata": {},
   "outputs": [
    {
     "data": {
      "text/html": [
       "<style>#sk-00d533c1-bd90-40a1-9c16-f3b0c8970c91 {color: black;background-color: white;}#sk-00d533c1-bd90-40a1-9c16-f3b0c8970c91 pre{padding: 0;}#sk-00d533c1-bd90-40a1-9c16-f3b0c8970c91 div.sk-toggleable {background-color: white;}#sk-00d533c1-bd90-40a1-9c16-f3b0c8970c91 label.sk-toggleable__label {cursor: pointer;display: block;width: 100%;margin-bottom: 0;padding: 0.2em 0.3em;box-sizing: border-box;text-align: center;}#sk-00d533c1-bd90-40a1-9c16-f3b0c8970c91 div.sk-toggleable__content {max-height: 0;max-width: 0;overflow: hidden;text-align: left;background-color: #f0f8ff;}#sk-00d533c1-bd90-40a1-9c16-f3b0c8970c91 div.sk-toggleable__content pre {margin: 0.2em;color: black;border-radius: 0.25em;background-color: #f0f8ff;}#sk-00d533c1-bd90-40a1-9c16-f3b0c8970c91 input.sk-toggleable__control:checked~div.sk-toggleable__content {max-height: 200px;max-width: 100%;overflow: auto;}#sk-00d533c1-bd90-40a1-9c16-f3b0c8970c91 div.sk-estimator input.sk-toggleable__control:checked~label.sk-toggleable__label {background-color: #d4ebff;}#sk-00d533c1-bd90-40a1-9c16-f3b0c8970c91 div.sk-label input.sk-toggleable__control:checked~label.sk-toggleable__label {background-color: #d4ebff;}#sk-00d533c1-bd90-40a1-9c16-f3b0c8970c91 input.sk-hidden--visually {border: 0;clip: rect(1px 1px 1px 1px);clip: rect(1px, 1px, 1px, 1px);height: 1px;margin: -1px;overflow: hidden;padding: 0;position: absolute;width: 1px;}#sk-00d533c1-bd90-40a1-9c16-f3b0c8970c91 div.sk-estimator {font-family: monospace;background-color: #f0f8ff;margin: 0.25em 0.25em;border: 1px dotted black;border-radius: 0.25em;box-sizing: border-box;}#sk-00d533c1-bd90-40a1-9c16-f3b0c8970c91 div.sk-estimator:hover {background-color: #d4ebff;}#sk-00d533c1-bd90-40a1-9c16-f3b0c8970c91 div.sk-parallel-item::after {content: \"\";width: 100%;border-bottom: 1px solid gray;flex-grow: 1;}#sk-00d533c1-bd90-40a1-9c16-f3b0c8970c91 div.sk-label:hover label.sk-toggleable__label {background-color: #d4ebff;}#sk-00d533c1-bd90-40a1-9c16-f3b0c8970c91 div.sk-serial::before {content: \"\";position: absolute;border-left: 1px solid gray;box-sizing: border-box;top: 2em;bottom: 0;left: 50%;}#sk-00d533c1-bd90-40a1-9c16-f3b0c8970c91 div.sk-serial {display: flex;flex-direction: column;align-items: center;background-color: white;}#sk-00d533c1-bd90-40a1-9c16-f3b0c8970c91 div.sk-item {z-index: 1;}#sk-00d533c1-bd90-40a1-9c16-f3b0c8970c91 div.sk-parallel {display: flex;align-items: stretch;justify-content: center;background-color: white;}#sk-00d533c1-bd90-40a1-9c16-f3b0c8970c91 div.sk-parallel-item {display: flex;flex-direction: column;position: relative;background-color: white;}#sk-00d533c1-bd90-40a1-9c16-f3b0c8970c91 div.sk-parallel-item:first-child::after {align-self: flex-end;width: 50%;}#sk-00d533c1-bd90-40a1-9c16-f3b0c8970c91 div.sk-parallel-item:last-child::after {align-self: flex-start;width: 50%;}#sk-00d533c1-bd90-40a1-9c16-f3b0c8970c91 div.sk-parallel-item:only-child::after {width: 0;}#sk-00d533c1-bd90-40a1-9c16-f3b0c8970c91 div.sk-dashed-wrapped {border: 1px dashed gray;margin: 0.2em;box-sizing: border-box;padding-bottom: 0.1em;background-color: white;position: relative;}#sk-00d533c1-bd90-40a1-9c16-f3b0c8970c91 div.sk-label label {font-family: monospace;font-weight: bold;background-color: white;display: inline-block;line-height: 1.2em;}#sk-00d533c1-bd90-40a1-9c16-f3b0c8970c91 div.sk-label-container {position: relative;z-index: 2;text-align: center;}#sk-00d533c1-bd90-40a1-9c16-f3b0c8970c91 div.sk-container {display: inline-block;position: relative;}</style><div id=\"sk-00d533c1-bd90-40a1-9c16-f3b0c8970c91\" class\"sk-top-container\"><div class=\"sk-container\"><div class=\"sk-item\"><div class=\"sk-estimator sk-toggleable\"><input class=\"sk-toggleable__control sk-hidden--visually\" id=\"65a62f27-fb07-40a7-b113-18b4a23a6ff9\" type=\"checkbox\" checked><label class=\"sk-toggleable__label\" for=\"65a62f27-fb07-40a7-b113-18b4a23a6ff9\">StandardScaler</label><div class=\"sk-toggleable__content\"><pre>StandardScaler()</pre></div></div></div></div></div>"
      ],
      "text/plain": [
       "StandardScaler()"
      ]
     },
     "execution_count": 12,
     "metadata": {},
     "output_type": "execute_result"
    }
   ],
   "source": [
    "preproc.fit(X)"
   ]
  },
  {
   "cell_type": "markdown",
   "id": "d15e6a27",
   "metadata": {},
   "source": [
    "# Machine Learning"
   ]
  },
  {
   "cell_type": "code",
   "execution_count": 14,
   "id": "25c92f11",
   "metadata": {},
   "outputs": [
    {
     "data": {
      "text/html": [
       "<style>#sk-bb1a6115-70cd-4c96-be1d-ed1a666e9cc5 {color: black;background-color: white;}#sk-bb1a6115-70cd-4c96-be1d-ed1a666e9cc5 pre{padding: 0;}#sk-bb1a6115-70cd-4c96-be1d-ed1a666e9cc5 div.sk-toggleable {background-color: white;}#sk-bb1a6115-70cd-4c96-be1d-ed1a666e9cc5 label.sk-toggleable__label {cursor: pointer;display: block;width: 100%;margin-bottom: 0;padding: 0.2em 0.3em;box-sizing: border-box;text-align: center;}#sk-bb1a6115-70cd-4c96-be1d-ed1a666e9cc5 div.sk-toggleable__content {max-height: 0;max-width: 0;overflow: hidden;text-align: left;background-color: #f0f8ff;}#sk-bb1a6115-70cd-4c96-be1d-ed1a666e9cc5 div.sk-toggleable__content pre {margin: 0.2em;color: black;border-radius: 0.25em;background-color: #f0f8ff;}#sk-bb1a6115-70cd-4c96-be1d-ed1a666e9cc5 input.sk-toggleable__control:checked~div.sk-toggleable__content {max-height: 200px;max-width: 100%;overflow: auto;}#sk-bb1a6115-70cd-4c96-be1d-ed1a666e9cc5 div.sk-estimator input.sk-toggleable__control:checked~label.sk-toggleable__label {background-color: #d4ebff;}#sk-bb1a6115-70cd-4c96-be1d-ed1a666e9cc5 div.sk-label input.sk-toggleable__control:checked~label.sk-toggleable__label {background-color: #d4ebff;}#sk-bb1a6115-70cd-4c96-be1d-ed1a666e9cc5 input.sk-hidden--visually {border: 0;clip: rect(1px 1px 1px 1px);clip: rect(1px, 1px, 1px, 1px);height: 1px;margin: -1px;overflow: hidden;padding: 0;position: absolute;width: 1px;}#sk-bb1a6115-70cd-4c96-be1d-ed1a666e9cc5 div.sk-estimator {font-family: monospace;background-color: #f0f8ff;margin: 0.25em 0.25em;border: 1px dotted black;border-radius: 0.25em;box-sizing: border-box;}#sk-bb1a6115-70cd-4c96-be1d-ed1a666e9cc5 div.sk-estimator:hover {background-color: #d4ebff;}#sk-bb1a6115-70cd-4c96-be1d-ed1a666e9cc5 div.sk-parallel-item::after {content: \"\";width: 100%;border-bottom: 1px solid gray;flex-grow: 1;}#sk-bb1a6115-70cd-4c96-be1d-ed1a666e9cc5 div.sk-label:hover label.sk-toggleable__label {background-color: #d4ebff;}#sk-bb1a6115-70cd-4c96-be1d-ed1a666e9cc5 div.sk-serial::before {content: \"\";position: absolute;border-left: 1px solid gray;box-sizing: border-box;top: 2em;bottom: 0;left: 50%;}#sk-bb1a6115-70cd-4c96-be1d-ed1a666e9cc5 div.sk-serial {display: flex;flex-direction: column;align-items: center;background-color: white;}#sk-bb1a6115-70cd-4c96-be1d-ed1a666e9cc5 div.sk-item {z-index: 1;}#sk-bb1a6115-70cd-4c96-be1d-ed1a666e9cc5 div.sk-parallel {display: flex;align-items: stretch;justify-content: center;background-color: white;}#sk-bb1a6115-70cd-4c96-be1d-ed1a666e9cc5 div.sk-parallel-item {display: flex;flex-direction: column;position: relative;background-color: white;}#sk-bb1a6115-70cd-4c96-be1d-ed1a666e9cc5 div.sk-parallel-item:first-child::after {align-self: flex-end;width: 50%;}#sk-bb1a6115-70cd-4c96-be1d-ed1a666e9cc5 div.sk-parallel-item:last-child::after {align-self: flex-start;width: 50%;}#sk-bb1a6115-70cd-4c96-be1d-ed1a666e9cc5 div.sk-parallel-item:only-child::after {width: 0;}#sk-bb1a6115-70cd-4c96-be1d-ed1a666e9cc5 div.sk-dashed-wrapped {border: 1px dashed gray;margin: 0.2em;box-sizing: border-box;padding-bottom: 0.1em;background-color: white;position: relative;}#sk-bb1a6115-70cd-4c96-be1d-ed1a666e9cc5 div.sk-label label {font-family: monospace;font-weight: bold;background-color: white;display: inline-block;line-height: 1.2em;}#sk-bb1a6115-70cd-4c96-be1d-ed1a666e9cc5 div.sk-label-container {position: relative;z-index: 2;text-align: center;}#sk-bb1a6115-70cd-4c96-be1d-ed1a666e9cc5 div.sk-container {display: inline-block;position: relative;}</style><div id=\"sk-bb1a6115-70cd-4c96-be1d-ed1a666e9cc5\" class\"sk-top-container\"><div class=\"sk-container\"><div class=\"sk-item sk-dashed-wrapped\"><div class=\"sk-label-container\"><div class=\"sk-label sk-toggleable\"><input class=\"sk-toggleable__control sk-hidden--visually\" id=\"92c745ca-836e-4ee4-b193-bc4dcedefeb8\" type=\"checkbox\" ><label class=\"sk-toggleable__label\" for=\"92c745ca-836e-4ee4-b193-bc4dcedefeb8\">Pipeline</label><div class=\"sk-toggleable__content\"><pre>Pipeline(steps=[('standardscaler', StandardScaler()), ('ridge', Ridge())])</pre></div></div></div><div class=\"sk-serial\"><div class=\"sk-item\"><div class=\"sk-estimator sk-toggleable\"><input class=\"sk-toggleable__control sk-hidden--visually\" id=\"331f26fd-4a87-4838-9c50-9411ce35ba6f\" type=\"checkbox\" ><label class=\"sk-toggleable__label\" for=\"331f26fd-4a87-4838-9c50-9411ce35ba6f\">StandardScaler</label><div class=\"sk-toggleable__content\"><pre>StandardScaler()</pre></div></div></div><div class=\"sk-item\"><div class=\"sk-estimator sk-toggleable\"><input class=\"sk-toggleable__control sk-hidden--visually\" id=\"1c052e92-963b-461c-aa3a-2012a4df717b\" type=\"checkbox\" ><label class=\"sk-toggleable__label\" for=\"1c052e92-963b-461c-aa3a-2012a4df717b\">Ridge</label><div class=\"sk-toggleable__content\"><pre>Ridge()</pre></div></div></div></div></div></div></div>"
      ],
      "text/plain": [
       "Pipeline(steps=[('standardscaler', StandardScaler()), ('ridge', Ridge())])"
      ]
     },
     "execution_count": 14,
     "metadata": {},
     "output_type": "execute_result"
    }
   ],
   "source": [
    "pipe_baseline = make_pipeline(preproc, Ridge())\n",
    "pipe_baseline"
   ]
  },
  {
   "cell_type": "code",
   "execution_count": 15,
   "id": "323b9e8d",
   "metadata": {},
   "outputs": [
    {
     "data": {
      "text/plain": [
       "-86.64324113965301"
      ]
     },
     "execution_count": 15,
     "metadata": {},
     "output_type": "execute_result"
    }
   ],
   "source": [
    "score_baseline = cross_val_score(pipe_baseline, X, y, cv=5, scoring='neg_mean_squared_error').mean()\n",
    "score_baseline"
   ]
  },
  {
   "cell_type": "code",
   "execution_count": null,
   "id": "f96193a3",
   "metadata": {},
   "outputs": [],
   "source": [
    "pipe_baseline.fit(X,y)\n",
    "y_pred_baseline = pipe_baseline.predict(X_test)\n",
    "y_pred_baseline"
   ]
  },
  {
   "cell_type": "markdown",
   "id": "4b83e9ca",
   "metadata": {},
   "source": [
    "# Deep Learning"
   ]
  },
  {
   "cell_type": "markdown",
   "id": "98e23687",
   "metadata": {},
   "source": [
    "## Preproc data"
   ]
  },
  {
   "cell_type": "code",
   "execution_count": 13,
   "id": "c668ec5d",
   "metadata": {},
   "outputs": [],
   "source": [
    "X_preproc = preproc.transform(X)"
   ]
  },
  {
   "cell_type": "markdown",
   "id": "75545019",
   "metadata": {},
   "source": [
    "## Create validation split"
   ]
  },
  {
   "cell_type": "code",
   "execution_count": 16,
   "id": "bbdf985f",
   "metadata": {},
   "outputs": [],
   "source": [
    "X_train, X_val, y_train, y_val = train_test_split(X_preproc, y, test_size=0.3, random_state=0)"
   ]
  },
  {
   "cell_type": "markdown",
   "id": "ba3720f0",
   "metadata": {},
   "source": [
    "## Initialize model"
   ]
  },
  {
   "cell_type": "markdown",
   "id": "1545b9bf",
   "metadata": {},
   "source": [
    "See the shape of your data and try insert the number of columns in the input_dim value"
   ]
  },
  {
   "cell_type": "code",
   "execution_count": 17,
   "id": "3c39a36a",
   "metadata": {},
   "outputs": [
    {
     "data": {
      "text/plain": [
       "(24084, 666)"
      ]
     },
     "execution_count": 17,
     "metadata": {},
     "output_type": "execute_result"
    }
   ],
   "source": [
    "X_train.shape"
   ]
  },
  {
   "cell_type": "code",
   "execution_count": 18,
   "id": "30141c22",
   "metadata": {},
   "outputs": [],
   "source": [
    "input_dim = 666 #insert here the number of dimensions of the X data"
   ]
  },
  {
   "cell_type": "code",
   "execution_count": 19,
   "id": "bd24ced8",
   "metadata": {},
   "outputs": [],
   "source": [
    "from tensorflow.keras.optimizers import Adam\n",
    "\n",
    "from tensorflow.keras.optimizers.schedules import ExponentialDecay\n",
    "\n",
    "initial_learning_rate = 0.01\n",
    "\n",
    "lr = ExponentialDecay(\n",
    "    initial_learning_rate, decay_steps=500, decay_rate=0.7,\n",
    ")\n",
    "\n",
    "def initialize_model(input_dim, lr):\n",
    "\n",
    "    \n",
    "    model = models.Sequential()\n",
    "\n",
    "    opt = Adam(learning_rate=lr)\n",
    "    \n",
    "    model.add(layers.Dense(20, activation='relu', input_dim=input_dim))\n",
    "    model.add(layers.Dense(20, activation='relu'))\n",
    "    model.add(layers.Dense(20, activation='relu'))\n",
    "\n",
    "    model.add(layers.Dense(1, activation='linear'))\n",
    "\n",
    "    model.compile(optimizer=opt,\n",
    "                  loss='msle',\n",
    "                  metrics='mae')# optimize for the squared log error!\n",
    "    \n",
    "    return model"
   ]
  },
  {
   "cell_type": "markdown",
   "id": "bb46b937",
   "metadata": {},
   "source": [
    "Initialize modal and show its summary"
   ]
  },
  {
   "cell_type": "code",
   "execution_count": 20,
   "id": "2a76c0e5",
   "metadata": {},
   "outputs": [
    {
     "name": "stdout",
     "output_type": "stream",
     "text": [
      "Model: \"sequential\"\n",
      "_________________________________________________________________\n",
      "Layer (type)                 Output Shape              Param #   \n",
      "=================================================================\n",
      "dense (Dense)                (None, 20)                13340     \n",
      "_________________________________________________________________\n",
      "dense_1 (Dense)              (None, 20)                420       \n",
      "_________________________________________________________________\n",
      "dense_2 (Dense)              (None, 20)                420       \n",
      "_________________________________________________________________\n",
      "dense_3 (Dense)              (None, 1)                 21        \n",
      "=================================================================\n",
      "Total params: 14,201\n",
      "Trainable params: 14,201\n",
      "Non-trainable params: 0\n",
      "_________________________________________________________________\n"
     ]
    },
    {
     "name": "stderr",
     "output_type": "stream",
     "text": [
      "2021-08-06 04:22:31.837939: I tensorflow/core/platform/cpu_feature_guard.cc:142] This TensorFlow binary is optimized with oneAPI Deep Neural Network Library (oneDNN) to use the following CPU instructions in performance-critical operations:  SSE4.1 SSE4.2 AVX AVX2 FMA\n",
      "To enable them in other operations, rebuild TensorFlow with the appropriate compiler flags.\n"
     ]
    }
   ],
   "source": [
    "model = initialize_model(input_dim, lr=0.001)\n",
    "model.summary()"
   ]
  },
  {
   "cell_type": "markdown",
   "id": "3a69bc65",
   "metadata": {},
   "source": [
    "## Fit model to your data"
   ]
  },
  {
   "cell_type": "code",
   "execution_count": 21,
   "id": "30f359b2",
   "metadata": {},
   "outputs": [
    {
     "name": "stderr",
     "output_type": "stream",
     "text": [
      "2021-08-06 04:22:36.433746: I tensorflow/compiler/mlir/mlir_graph_optimization_pass.cc:116] None of the MLIR optimization passes are enabled (registered 2)\n",
      "2021-08-06 04:22:36.434393: I tensorflow/core/platform/profile_utils/cpu_utils.cc:112] CPU Frequency: 2299995000 Hz\n"
     ]
    },
    {
     "name": "stdout",
     "output_type": "stream",
     "text": [
      "Epoch 1/100\n",
      "527/527 [==============================] - 2s 3ms/step - loss: 0.8912 - mae: 6.8130 - val_loss: 0.4893 - val_mae: 5.7199\n",
      "Epoch 2/100\n",
      "527/527 [==============================] - 1s 2ms/step - loss: 0.4897 - mae: 5.7054 - val_loss: 0.4382 - val_mae: 5.4828\n",
      "Epoch 3/100\n",
      "527/527 [==============================] - 1s 2ms/step - loss: 0.4255 - mae: 5.5466 - val_loss: 0.4863 - val_mae: 5.6071\n",
      "Epoch 4/100\n",
      "527/527 [==============================] - 1s 2ms/step - loss: 0.4213 - mae: 5.4673 - val_loss: 0.3698 - val_mae: 5.1427\n",
      "Epoch 5/100\n",
      "527/527 [==============================] - 1s 2ms/step - loss: 0.3914 - mae: 5.3145 - val_loss: 0.3297 - val_mae: 5.0793\n",
      "Epoch 6/100\n",
      "527/527 [==============================] - 1s 2ms/step - loss: 0.3531 - mae: 5.1685 - val_loss: 0.4042 - val_mae: 5.2325\n",
      "Epoch 7/100\n",
      "527/527 [==============================] - 1s 2ms/step - loss: 0.3392 - mae: 5.0710 - val_loss: 0.2904 - val_mae: 4.9554\n",
      "Epoch 8/100\n",
      "527/527 [==============================] - 1s 2ms/step - loss: 0.3228 - mae: 5.1190 - val_loss: 0.3022 - val_mae: 4.9127\n",
      "Epoch 9/100\n",
      "527/527 [==============================] - 1s 2ms/step - loss: 0.3080 - mae: 5.0265 - val_loss: 0.2939 - val_mae: 5.0574\n",
      "Epoch 10/100\n",
      "527/527 [==============================] - 1s 2ms/step - loss: 0.2980 - mae: 5.0137 - val_loss: 0.2736 - val_mae: 4.8133\n",
      "Epoch 11/100\n",
      "527/527 [==============================] - 1s 2ms/step - loss: 0.2803 - mae: 4.9451 - val_loss: 0.2872 - val_mae: 4.7807\n",
      "Epoch 12/100\n",
      "527/527 [==============================] - 1s 2ms/step - loss: 0.2680 - mae: 4.8904 - val_loss: 0.2453 - val_mae: 4.6947\n",
      "Epoch 13/100\n",
      "527/527 [==============================] - 1s 2ms/step - loss: 0.2533 - mae: 4.7056 - val_loss: 0.2648 - val_mae: 4.7215\n",
      "Epoch 14/100\n",
      "527/527 [==============================] - 1s 2ms/step - loss: 0.2519 - mae: 4.6993 - val_loss: 0.2147 - val_mae: 4.6175\n",
      "Epoch 15/100\n",
      "527/527 [==============================] - 1s 2ms/step - loss: 0.2416 - mae: 4.6425 - val_loss: 0.2434 - val_mae: 4.6968\n",
      "Epoch 16/100\n",
      "527/527 [==============================] - 1s 2ms/step - loss: 0.2411 - mae: 4.5562 - val_loss: 0.2018 - val_mae: 4.5756\n",
      "Epoch 17/100\n",
      "527/527 [==============================] - 1s 2ms/step - loss: 0.2271 - mae: 4.6423 - val_loss: 0.2113 - val_mae: 4.5951\n",
      "Epoch 18/100\n",
      "527/527 [==============================] - 1s 2ms/step - loss: 0.2176 - mae: 4.6269 - val_loss: 0.2096 - val_mae: 4.4955\n",
      "Epoch 19/100\n",
      "527/527 [==============================] - 1s 2ms/step - loss: 0.2296 - mae: 4.6431 - val_loss: 0.2012 - val_mae: 4.5385\n",
      "Epoch 20/100\n",
      "527/527 [==============================] - 1s 2ms/step - loss: 0.2174 - mae: 4.5080 - val_loss: 0.1927 - val_mae: 4.4525\n",
      "Epoch 21/100\n",
      "527/527 [==============================] - 1s 2ms/step - loss: 0.2043 - mae: 4.5868 - val_loss: 0.2282 - val_mae: 4.6495\n",
      "Epoch 22/100\n",
      "527/527 [==============================] - 1s 2ms/step - loss: 0.2196 - mae: 4.5991 - val_loss: 0.1998 - val_mae: 4.5470\n",
      "Epoch 23/100\n",
      "527/527 [==============================] - 1s 2ms/step - loss: 0.2126 - mae: 4.5335 - val_loss: 0.1862 - val_mae: 4.4012\n",
      "Epoch 24/100\n",
      "527/527 [==============================] - 1s 2ms/step - loss: 0.1984 - mae: 4.4230 - val_loss: 0.1721 - val_mae: 4.3603\n",
      "Epoch 25/100\n",
      "527/527 [==============================] - 1s 2ms/step - loss: 0.1971 - mae: 4.4290 - val_loss: 0.1769 - val_mae: 4.3925\n",
      "Epoch 26/100\n",
      "527/527 [==============================] - 1s 2ms/step - loss: 0.1904 - mae: 4.4682 - val_loss: 0.2074 - val_mae: 4.3968\n",
      "Epoch 27/100\n",
      "527/527 [==============================] - 1s 2ms/step - loss: 0.1956 - mae: 4.4021 - val_loss: 0.1769 - val_mae: 4.3118\n",
      "Epoch 28/100\n",
      "527/527 [==============================] - 1s 2ms/step - loss: 0.1952 - mae: 4.4231 - val_loss: 0.1719 - val_mae: 4.2921\n",
      "Epoch 29/100\n",
      "527/527 [==============================] - 1s 2ms/step - loss: 0.1907 - mae: 4.4600 - val_loss: 0.1749 - val_mae: 4.2742\n",
      "Epoch 30/100\n",
      "527/527 [==============================] - 1s 2ms/step - loss: 0.1872 - mae: 4.3794 - val_loss: 0.1825 - val_mae: 4.3150\n",
      "Epoch 31/100\n",
      "527/527 [==============================] - 1s 2ms/step - loss: 0.1827 - mae: 4.3627 - val_loss: 0.1746 - val_mae: 4.3907\n",
      "Epoch 32/100\n",
      "527/527 [==============================] - 1s 2ms/step - loss: 0.1849 - mae: 4.3945 - val_loss: 0.1860 - val_mae: 4.3559\n",
      "Epoch 33/100\n",
      "527/527 [==============================] - 1s 2ms/step - loss: 0.1916 - mae: 4.3933 - val_loss: 0.1686 - val_mae: 4.2850\n",
      "Epoch 34/100\n",
      "527/527 [==============================] - 1s 2ms/step - loss: 0.1803 - mae: 4.3838 - val_loss: 0.1645 - val_mae: 4.2766\n",
      "Epoch 35/100\n",
      "527/527 [==============================] - 1s 2ms/step - loss: 0.1790 - mae: 4.2773 - val_loss: 0.1729 - val_mae: 4.3055\n",
      "Epoch 36/100\n",
      "527/527 [==============================] - 1s 2ms/step - loss: 0.1863 - mae: 4.3309 - val_loss: 0.1792 - val_mae: 4.2254\n",
      "Epoch 37/100\n",
      "527/527 [==============================] - 1s 2ms/step - loss: 0.1880 - mae: 4.3861 - val_loss: 0.1756 - val_mae: 4.3054\n",
      "Epoch 38/100\n",
      "527/527 [==============================] - 1s 2ms/step - loss: 0.1841 - mae: 4.3943 - val_loss: 0.1668 - val_mae: 4.1706\n",
      "Epoch 39/100\n",
      "527/527 [==============================] - 1s 2ms/step - loss: 0.1779 - mae: 4.2817 - val_loss: 0.1890 - val_mae: 4.3249\n",
      "Epoch 40/100\n",
      "527/527 [==============================] - 1s 2ms/step - loss: 0.1858 - mae: 4.2691 - val_loss: 0.1761 - val_mae: 4.2675\n",
      "Epoch 41/100\n",
      "527/527 [==============================] - 1s 2ms/step - loss: 0.1704 - mae: 4.2489 - val_loss: 0.1974 - val_mae: 4.3298\n",
      "Epoch 42/100\n",
      "527/527 [==============================] - 1s 2ms/step - loss: 0.1757 - mae: 4.2045 - val_loss: 0.2532 - val_mae: 4.4722\n",
      "Epoch 43/100\n",
      "527/527 [==============================] - 1s 2ms/step - loss: 0.2119 - mae: 4.3855 - val_loss: 0.1785 - val_mae: 4.2662\n",
      "Epoch 44/100\n",
      "527/527 [==============================] - 1s 2ms/step - loss: 0.1732 - mae: 4.3154 - val_loss: 0.1802 - val_mae: 4.2078\n"
     ]
    }
   ],
   "source": [
    "es = EarlyStopping(patience=10, restore_best_weights=True)\n",
    "\n",
    "history = model.fit(X_train, y_train,\n",
    "                    validation_split=0.3,\n",
    "                    epochs=100,\n",
    "                    batch_size=32, \n",
    "                    verbose=1, \n",
    "                    callbacks=[es])"
   ]
  },
  {
   "cell_type": "markdown",
   "id": "d9be5a2b",
   "metadata": {},
   "source": [
    "## Evaluate the model"
   ]
  },
  {
   "cell_type": "code",
   "execution_count": 22,
   "id": "ec135667",
   "metadata": {},
   "outputs": [],
   "source": [
    "def plot_history(history):\n",
    "    plt.plot(np.sqrt(history.history['loss']))\n",
    "    plt.plot(np.sqrt(history.history['val_loss']))\n",
    "    plt.title('Model Loss')\n",
    "    plt.ylabel('MSLE')\n",
    "    plt.xlabel('Epoch')\n",
    "    plt.legend(['Train', 'Val'], loc='best')\n",
    "    plt.show()"
   ]
  },
  {
   "cell_type": "code",
   "execution_count": 23,
   "id": "7bac7980",
   "metadata": {},
   "outputs": [
    {
     "data": {
      "image/png": "[encoded data removed]",
      "text/plain": [
       "<Figure size 432x288 with 1 Axes>"
      ]
     },
     "metadata": {
      "needs_background": "light"
     },
     "output_type": "display_data"
    }
   ],
   "source": [
    "plot_history(history)"
   ]
  },
  {
   "cell_type": "code",
   "execution_count": 24,
   "id": "25be06af",
   "metadata": {},
   "outputs": [
    {
     "data": {
      "text/plain": [
       "[0.16956084966659546, 4.294249057769775]"
      ]
     },
     "execution_count": 24,
     "metadata": {},
     "output_type": "execute_result"
    }
   ],
   "source": [
    "model.evaluate(X_val, y_val, verbose=0)"
   ]
  },
  {
   "cell_type": "markdown",
   "id": "a65baee3",
   "metadata": {},
   "source": [
    "## Predict the data"
   ]
  },
  {
   "cell_type": "code",
   "execution_count": 25,
   "id": "4e505877",
   "metadata": {},
   "outputs": [],
   "source": [
    "y_pred = model.predict(preproc.transform(X))"
   ]
  },
  {
   "cell_type": "code",
   "execution_count": 35,
   "id": "d7091dc4-38a1-4011-9931-5b6d87799246",
   "metadata": {},
   "outputs": [
    {
     "data": {
      "text/plain": [
       "array([[ 0.36687877,  0.77956846,  1.20926623, ..., -0.33372119,\n",
       "        -0.29119868, -0.25563085],\n",
       "       [ 0.36687877,  0.77956846,  1.20926623, ..., -0.33372119,\n",
       "        -0.29119868, -0.25563085],\n",
       "       [ 0.36687877,  0.77956846,  1.20926623, ..., -0.33372119,\n",
       "        -0.29119868, -0.25563085],\n",
       "       ...,\n",
       "       [ 0.36488082,  0.20113471, -0.27822478, ..., -1.38196923,\n",
       "        -1.44973773, -1.50321012],\n",
       "       [ 0.36488082,  0.20113471, -0.27822478, ..., -1.38196923,\n",
       "        -1.44973773, -1.50321012],\n",
       "       [ 0.36488082,  0.20113471, -0.27822478, ..., -1.28972838,\n",
       "        -1.36521329, -1.43161195]])"
      ]
     },
     "execution_count": 35,
     "metadata": {},
     "output_type": "execute_result"
    }
   ],
   "source": [
    "preproc.transform(X)"
   ]
  },
  {
   "cell_type": "code",
   "execution_count": 27,
   "id": "80f6ca0d",
   "metadata": {},
   "outputs": [
    {
     "data": {
      "text/plain": [
       "[<matplotlib.lines.Line2D at 0x7fbbb0c27a90>]"
      ]
     },
     "execution_count": 27,
     "metadata": {},
     "output_type": "execute_result"
    },
    {
     "data": {
      "image/png": "[encoded data removed]",
      "text/plain": [
       "<Figure size 432x288 with 1 Axes>"
      ]
     },
     "metadata": {
      "needs_background": "light"
     },
     "output_type": "display_data"
    }
   ],
   "source": [
    "plt.plot(y)\n",
    "plt.plot(y_pred)"
   ]
  },
  {
   "cell_type": "markdown",
   "id": "67c99e26-1fe7-47a1-8d66-5fad3dff1e1e",
   "metadata": {},
   "source": [
    "## Predict Deep current u from 2002 to 2019"
   ]
  },
  {
   "cell_type": "code",
   "execution_count": 37,
   "id": "77cba336-87de-4a1e-82ce-093095ee534b",
   "metadata": {},
   "outputs": [],
   "source": [
    "## Needs to match the first dimension\n",
    "X_whole = xr.open_dataset('X_whole.nc').to_array()[0]"
   ]
  },
  {
   "cell_type": "code",
   "execution_count": 38,
   "id": "f3c71969-6ba2-4beb-abbc-d3fa0bfb4dda",
   "metadata": {},
   "outputs": [
    {
     "data": {
      "text/plain": [
       "array([[-0.93932311, -1.62223456, -1.91810429, ...,         nan,\n",
       "                nan,         nan],\n",
       "       [-0.91989977, -1.63680903, -1.9462874 , ...,         nan,\n",
       "                nan,         nan],\n",
       "       [-0.93243096, -1.65921051, -1.95771299, ...,         nan,\n",
       "                nan,         nan],\n",
       "       ...,\n",
       "       [        nan,         nan,         nan, ..., -0.63449625,\n",
       "        -0.64276637, -0.65901387],\n",
       "       [        nan,         nan,         nan, ..., -0.66779635,\n",
       "        -0.66405501, -0.66922037],\n",
       "       [        nan,         nan,         nan, ..., -0.70218719,\n",
       "        -0.70954711, -0.72286439]])"
      ]
     },
     "execution_count": 38,
     "metadata": {},
     "output_type": "execute_result"
    }
   ],
   "source": [
    "preproc.transform(X_whole)"
   ]
  },
  {
   "cell_type": "code",
   "execution_count": 39,
   "id": "b8ef2b54-aec7-451d-a047-3b366e12eff1",
   "metadata": {
    "tags": []
   },
   "outputs": [
    {
     "data": {
      "text/plain": [
       "[<matplotlib.lines.Line2D at 0x7fbbb0b639d0>]"
      ]
     },
     "execution_count": 39,
     "metadata": {},
     "output_type": "execute_result"
    },
    {
     "data": {
      "image/png": "[encoded data removed]",
      "text/plain": [
       "<Figure size 432x288 with 1 Axes>"
      ]
     },
     "metadata": {
      "needs_background": "light"
     },
     "output_type": "display_data"
    }
   ],
   "source": [
    "y_pred_whole = model.predict(preproc.transform(X_whole))\n",
    "plt.plot(y_pred_whole)"
   ]
  },
  {
   "cell_type": "code",
   "execution_count": null,
   "id": "fdf6554b-4ea5-45fe-8846-04a50f1b7a4a",
   "metadata": {},
   "outputs": [],
   "source": []
  }
 ],
 "metadata": {
  "kernelspec": {
   "display_name": "Python 3 (ipykernel)",
   "language": "python",
   "name": "python3"
  },
  "language_info": {
   "codemirror_mode": {
    "name": "ipython",
    "version": 3
   },
   "file_extension": ".py",
   "mimetype": "text/x-python",
   "name": "python",
   "nbconvert_exporter": "python",
   "pygments_lexer": "ipython3",
   "version": "3.9.6"
  },
  "toc": {
   "base_numbering": 1,
   "nav_menu": {},
   "number_sections": true,
   "sideBar": true,
   "skip_h1_title": false,
   "title_cell": "Table of Contents",
   "title_sidebar": "Contents",
   "toc_cell": false,
   "toc_position": {},
   "toc_section_display": true,
   "toc_window_display": false
  }
 },
 "nbformat": 4,
 "nbformat_minor": 5
}
